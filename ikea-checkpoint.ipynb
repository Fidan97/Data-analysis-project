{
 "cells": [
  {
   "cell_type": "code",
   "execution_count": 1,
   "id": "d465349a-99e4-4c02-9245-55ba659cc12b",
   "metadata": {},
   "outputs": [],
   "source": [
    "import pandas as pd\n",
    "import seaborn as sns\n",
    "import matplotlib.pyplot as plt"
   ]
  },
  {
   "cell_type": "code",
   "execution_count": 2,
   "id": "e2abf507-7df5-4397-a36f-76aa562ba9c2",
   "metadata": {},
   "outputs": [
    {
     "data": {
      "text/html": [
       "<div>\n",
       "<style scoped>\n",
       "    .dataframe tbody tr th:only-of-type {\n",
       "        vertical-align: middle;\n",
       "    }\n",
       "\n",
       "    .dataframe tbody tr th {\n",
       "        vertical-align: top;\n",
       "    }\n",
       "\n",
       "    .dataframe thead th {\n",
       "        text-align: right;\n",
       "    }\n",
       "</style>\n",
       "<table border=\"1\" class=\"dataframe\">\n",
       "  <thead>\n",
       "    <tr style=\"text-align: right;\">\n",
       "      <th></th>\n",
       "      <th>item_id</th>\n",
       "      <th>name</th>\n",
       "      <th>category</th>\n",
       "      <th>price</th>\n",
       "      <th>old_price</th>\n",
       "      <th>sellable_online</th>\n",
       "      <th>link</th>\n",
       "      <th>other_colors</th>\n",
       "      <th>short_description</th>\n",
       "      <th>designer</th>\n",
       "      <th>depth</th>\n",
       "      <th>height</th>\n",
       "      <th>width</th>\n",
       "      <th>product_description</th>\n",
       "      <th>current_status</th>\n",
       "      <th>kewords</th>\n",
       "      <th>topic_group</th>\n",
       "      <th>topic_desc</th>\n",
       "    </tr>\n",
       "  </thead>\n",
       "  <tbody>\n",
       "    <tr>\n",
       "      <th>0</th>\n",
       "      <td>90420332</td>\n",
       "      <td>FREKVENS</td>\n",
       "      <td>Bar furniture</td>\n",
       "      <td>265.0</td>\n",
       "      <td>No old price</td>\n",
       "      <td>True</td>\n",
       "      <td>https://www.ikea.com/sa/en/p/frekvens-bar-tabl...</td>\n",
       "      <td>No</td>\n",
       "      <td>Bar table, in/outdoor,          51x51 cm</td>\n",
       "      <td>Nicholai Wiig Hansen</td>\n",
       "      <td>NaN</td>\n",
       "      <td>99.0</td>\n",
       "      <td>51.0</td>\n",
       "      <td>Item discontinued</td>\n",
       "      <td>Item discontinued</td>\n",
       "      <td>NaN</td>\n",
       "      <td>NaN</td>\n",
       "      <td>NaN</td>\n",
       "    </tr>\n",
       "    <tr>\n",
       "      <th>1</th>\n",
       "      <td>80155205</td>\n",
       "      <td>STIG</td>\n",
       "      <td>Bar furniture</td>\n",
       "      <td>69.0</td>\n",
       "      <td>No old price</td>\n",
       "      <td>True</td>\n",
       "      <td>https://www.ikea.com/sa/en/p/stig-bar-stool-wi...</td>\n",
       "      <td>Yes</td>\n",
       "      <td>Bar stool with backrest,          74 cm</td>\n",
       "      <td>Henrik Preutz</td>\n",
       "      <td>50.0</td>\n",
       "      <td>100.0</td>\n",
       "      <td>60.0</td>\n",
       "      <td>Item discontinued</td>\n",
       "      <td>Item discontinued</td>\n",
       "      <td>NaN</td>\n",
       "      <td>NaN</td>\n",
       "      <td>NaN</td>\n",
       "    </tr>\n",
       "    <tr>\n",
       "      <th>2</th>\n",
       "      <td>50420329</td>\n",
       "      <td>FREKVENS</td>\n",
       "      <td>Bar furniture</td>\n",
       "      <td>177.0</td>\n",
       "      <td>SR 295</td>\n",
       "      <td>True</td>\n",
       "      <td>https://www.ikea.com/sa/en/p/frekvens-bar-stoo...</td>\n",
       "      <td>No</td>\n",
       "      <td>Bar stool with backrest, in/outdoor,  ...</td>\n",
       "      <td>Nicholai Wiig Hansen</td>\n",
       "      <td>53.0</td>\n",
       "      <td>104.0</td>\n",
       "      <td>43.0</td>\n",
       "      <td>Item discontinued</td>\n",
       "      <td>Item discontinued</td>\n",
       "      <td>NaN</td>\n",
       "      <td>NaN</td>\n",
       "      <td>NaN</td>\n",
       "    </tr>\n",
       "    <tr>\n",
       "      <th>3</th>\n",
       "      <td>400550</td>\n",
       "      <td>EKEDALEN</td>\n",
       "      <td>Bar furniture</td>\n",
       "      <td>345.0</td>\n",
       "      <td>No old price</td>\n",
       "      <td>True</td>\n",
       "      <td>https://www.ikea.com/sa/en/p/ekedalen-bar-stoo...</td>\n",
       "      <td>No</td>\n",
       "      <td>Bar stool with backrest,          75 cm</td>\n",
       "      <td>Ehl√©n Johansson</td>\n",
       "      <td>52.0</td>\n",
       "      <td>114.0</td>\n",
       "      <td>43.0</td>\n",
       "      <td>Item discontinued</td>\n",
       "      <td>Item discontinued</td>\n",
       "      <td>NaN</td>\n",
       "      <td>NaN</td>\n",
       "      <td>NaN</td>\n",
       "    </tr>\n",
       "    <tr>\n",
       "      <th>4</th>\n",
       "      <td>40426138</td>\n",
       "      <td>HENRIKSDAL</td>\n",
       "      <td>Bar furniture</td>\n",
       "      <td>395.0</td>\n",
       "      <td>No old price</td>\n",
       "      <td>True</td>\n",
       "      <td>https://www.ikea.com/sa/en/p/henriksdal-bar-st...</td>\n",
       "      <td>No</td>\n",
       "      <td>Bar stool with backrest frame,        ...</td>\n",
       "      <td>Karl Malmvall</td>\n",
       "      <td>51.0</td>\n",
       "      <td>102.0</td>\n",
       "      <td>40.0</td>\n",
       "      <td>Item discontinued</td>\n",
       "      <td>Item discontinued</td>\n",
       "      <td>NaN</td>\n",
       "      <td>NaN</td>\n",
       "      <td>NaN</td>\n",
       "    </tr>\n",
       "  </tbody>\n",
       "</table>\n",
       "</div>"
      ],
      "text/plain": [
       "    item_id        name       category  price     old_price  sellable_online  \\\n",
       "0  90420332    FREKVENS  Bar furniture  265.0  No old price             True   \n",
       "1  80155205        STIG  Bar furniture   69.0  No old price             True   \n",
       "2  50420329    FREKVENS  Bar furniture  177.0        SR 295             True   \n",
       "3    400550    EKEDALEN  Bar furniture  345.0  No old price             True   \n",
       "4  40426138  HENRIKSDAL  Bar furniture  395.0  No old price             True   \n",
       "\n",
       "                                                link other_colors  \\\n",
       "0  https://www.ikea.com/sa/en/p/frekvens-bar-tabl...           No   \n",
       "1  https://www.ikea.com/sa/en/p/stig-bar-stool-wi...          Yes   \n",
       "2  https://www.ikea.com/sa/en/p/frekvens-bar-stoo...           No   \n",
       "3  https://www.ikea.com/sa/en/p/ekedalen-bar-stoo...           No   \n",
       "4  https://www.ikea.com/sa/en/p/henriksdal-bar-st...           No   \n",
       "\n",
       "                                   short_description              designer  \\\n",
       "0           Bar table, in/outdoor,          51x51 cm  Nicholai Wiig Hansen   \n",
       "1            Bar stool with backrest,          74 cm         Henrik Preutz   \n",
       "2          Bar stool with backrest, in/outdoor,  ...  Nicholai Wiig Hansen   \n",
       "3            Bar stool with backrest,          75 cm      Ehl√©n Johansson   \n",
       "4          Bar stool with backrest frame,        ...         Karl Malmvall   \n",
       "\n",
       "   depth  height  width product_description     current_status kewords  \\\n",
       "0    NaN    99.0   51.0   Item discontinued  Item discontinued     NaN   \n",
       "1   50.0   100.0   60.0   Item discontinued  Item discontinued     NaN   \n",
       "2   53.0   104.0   43.0   Item discontinued  Item discontinued     NaN   \n",
       "3   52.0   114.0   43.0   Item discontinued  Item discontinued     NaN   \n",
       "4   51.0   102.0   40.0   Item discontinued  Item discontinued     NaN   \n",
       "\n",
       "   topic_group topic_desc  \n",
       "0          NaN        NaN  \n",
       "1          NaN        NaN  \n",
       "2          NaN        NaN  \n",
       "3          NaN        NaN  \n",
       "4          NaN        NaN  "
      ]
     },
     "execution_count": 2,
     "metadata": {},
     "output_type": "execute_result"
    }
   ],
   "source": [
    "ikea=pd.read_csv('ikea2.csv')\n",
    "ikea.head()"
   ]
  },
  {
   "cell_type": "code",
   "execution_count": 3,
   "id": "c5379b2a-f48d-4896-bf3e-56672ad5ed0f",
   "metadata": {},
   "outputs": [
    {
     "data": {
      "text/plain": [
       "Index(['item_id', 'name', 'category', 'price', 'old_price', 'sellable_online',\n",
       "       'link', 'other_colors', 'short_description', 'designer', 'depth',\n",
       "       'height', 'width', 'product_description', 'current_status', 'kewords',\n",
       "       'topic_group', 'topic_desc'],\n",
       "      dtype='object')"
      ]
     },
     "execution_count": 3,
     "metadata": {},
     "output_type": "execute_result"
    }
   ],
   "source": [
    "ikea.columns"
   ]
  },
  {
   "cell_type": "code",
   "execution_count": 52,
   "id": "b1921741-6f07-4c8d-bcfa-4e110f13fc64",
   "metadata": {},
   "outputs": [
    {
     "data": {
      "text/plain": [
       "RangeIndex(start=0, stop=3694, step=1)"
      ]
     },
     "execution_count": 52,
     "metadata": {},
     "output_type": "execute_result"
    }
   ],
   "source": [
    "ikea['width'].index"
   ]
  },
  {
   "cell_type": "code",
   "execution_count": 68,
   "id": "1c7465e9-d893-41d2-b370-3d744a9e0c0d",
   "metadata": {},
   "outputs": [
    {
     "data": {
      "text/html": [
       "<div>\n",
       "<style scoped>\n",
       "    .dataframe tbody tr th:only-of-type {\n",
       "        vertical-align: middle;\n",
       "    }\n",
       "\n",
       "    .dataframe tbody tr th {\n",
       "        vertical-align: top;\n",
       "    }\n",
       "\n",
       "    .dataframe thead th {\n",
       "        text-align: right;\n",
       "    }\n",
       "</style>\n",
       "<table border=\"1\" class=\"dataframe\">\n",
       "  <thead>\n",
       "    <tr style=\"text-align: right;\">\n",
       "      <th></th>\n",
       "      <th>item_id</th>\n",
       "      <th>price</th>\n",
       "      <th>depth</th>\n",
       "      <th>height</th>\n",
       "      <th>width</th>\n",
       "      <th>topic_group</th>\n",
       "    </tr>\n",
       "  </thead>\n",
       "  <tbody>\n",
       "    <tr>\n",
       "      <th>count</th>\n",
       "      <td>3.694000e+03</td>\n",
       "      <td>3694.000000</td>\n",
       "      <td>2231.000000</td>\n",
       "      <td>2706.000000</td>\n",
       "      <td>3105.000000</td>\n",
       "      <td>1409.000000</td>\n",
       "    </tr>\n",
       "    <tr>\n",
       "      <th>mean</th>\n",
       "      <td>4.863240e+07</td>\n",
       "      <td>1078.208419</td>\n",
       "      <td>54.379202</td>\n",
       "      <td>101.679970</td>\n",
       "      <td>104.470853</td>\n",
       "      <td>1.102910</td>\n",
       "    </tr>\n",
       "    <tr>\n",
       "      <th>std</th>\n",
       "      <td>2.888709e+07</td>\n",
       "      <td>1374.652494</td>\n",
       "      <td>29.958351</td>\n",
       "      <td>61.097585</td>\n",
       "      <td>71.133771</td>\n",
       "      <td>0.852835</td>\n",
       "    </tr>\n",
       "    <tr>\n",
       "      <th>min</th>\n",
       "      <td>5.848700e+04</td>\n",
       "      <td>3.000000</td>\n",
       "      <td>1.000000</td>\n",
       "      <td>1.000000</td>\n",
       "      <td>1.000000</td>\n",
       "      <td>0.000000</td>\n",
       "    </tr>\n",
       "    <tr>\n",
       "      <th>25%</th>\n",
       "      <td>2.039057e+07</td>\n",
       "      <td>180.900000</td>\n",
       "      <td>38.000000</td>\n",
       "      <td>67.000000</td>\n",
       "      <td>60.000000</td>\n",
       "      <td>0.000000</td>\n",
       "    </tr>\n",
       "    <tr>\n",
       "      <th>50%</th>\n",
       "      <td>4.928808e+07</td>\n",
       "      <td>544.700000</td>\n",
       "      <td>47.000000</td>\n",
       "      <td>83.000000</td>\n",
       "      <td>80.000000</td>\n",
       "      <td>1.000000</td>\n",
       "    </tr>\n",
       "    <tr>\n",
       "      <th>75%</th>\n",
       "      <td>7.040357e+07</td>\n",
       "      <td>1429.500000</td>\n",
       "      <td>60.000000</td>\n",
       "      <td>124.000000</td>\n",
       "      <td>140.000000</td>\n",
       "      <td>2.000000</td>\n",
       "    </tr>\n",
       "    <tr>\n",
       "      <th>max</th>\n",
       "      <td>9.993262e+07</td>\n",
       "      <td>9585.000000</td>\n",
       "      <td>257.000000</td>\n",
       "      <td>700.000000</td>\n",
       "      <td>420.000000</td>\n",
       "      <td>2.000000</td>\n",
       "    </tr>\n",
       "  </tbody>\n",
       "</table>\n",
       "</div>"
      ],
      "text/plain": [
       "            item_id        price        depth       height        width  \\\n",
       "count  3.694000e+03  3694.000000  2231.000000  2706.000000  3105.000000   \n",
       "mean   4.863240e+07  1078.208419    54.379202   101.679970   104.470853   \n",
       "std    2.888709e+07  1374.652494    29.958351    61.097585    71.133771   \n",
       "min    5.848700e+04     3.000000     1.000000     1.000000     1.000000   \n",
       "25%    2.039057e+07   180.900000    38.000000    67.000000    60.000000   \n",
       "50%    4.928808e+07   544.700000    47.000000    83.000000    80.000000   \n",
       "75%    7.040357e+07  1429.500000    60.000000   124.000000   140.000000   \n",
       "max    9.993262e+07  9585.000000   257.000000   700.000000   420.000000   \n",
       "\n",
       "       topic_group  \n",
       "count  1409.000000  \n",
       "mean      1.102910  \n",
       "std       0.852835  \n",
       "min       0.000000  \n",
       "25%       0.000000  \n",
       "50%       1.000000  \n",
       "75%       2.000000  \n",
       "max       2.000000  "
      ]
     },
     "execution_count": 68,
     "metadata": {},
     "output_type": "execute_result"
    }
   ],
   "source": [
    "ikea.describe()"
   ]
  },
  {
   "cell_type": "code",
   "execution_count": 4,
   "id": "5da3e547-aa05-4231-aca7-634d77c6481c",
   "metadata": {},
   "outputs": [
    {
     "data": {
      "text/plain": [
       "(3694, 18)"
      ]
     },
     "execution_count": 4,
     "metadata": {},
     "output_type": "execute_result"
    }
   ],
   "source": [
    "ikea.shape"
   ]
  },
  {
   "cell_type": "code",
   "execution_count": 5,
   "id": "b06f4589-4395-4e4c-a887-ea0f2644bc6a",
   "metadata": {},
   "outputs": [
    {
     "name": "stdout",
     "output_type": "stream",
     "text": [
      "<class 'pandas.core.frame.DataFrame'>\n",
      "RangeIndex: 3694 entries, 0 to 3693\n",
      "Data columns (total 18 columns):\n",
      " #   Column               Non-Null Count  Dtype  \n",
      "---  ------               --------------  -----  \n",
      " 0   item_id              3694 non-null   int64  \n",
      " 1   name                 3694 non-null   object \n",
      " 2   category             3694 non-null   object \n",
      " 3   price                3694 non-null   float64\n",
      " 4   old_price            3694 non-null   object \n",
      " 5   sellable_online      3694 non-null   bool   \n",
      " 6   link                 3694 non-null   object \n",
      " 7   other_colors         3694 non-null   object \n",
      " 8   short_description    3694 non-null   object \n",
      " 9   designer             3694 non-null   object \n",
      " 10  depth                2231 non-null   float64\n",
      " 11  height               2706 non-null   float64\n",
      " 12  width                3105 non-null   float64\n",
      " 13  product_description  3694 non-null   object \n",
      " 14  current_status       3694 non-null   object \n",
      " 15  kewords              1394 non-null   object \n",
      " 16  topic_group          1409 non-null   float64\n",
      " 17  topic_desc           1409 non-null   object \n",
      "dtypes: bool(1), float64(5), int64(1), object(11)\n",
      "memory usage: 494.3+ KB\n"
     ]
    }
   ],
   "source": [
    "ikea.info()"
   ]
  },
  {
   "cell_type": "code",
   "execution_count": 5,
   "id": "46226d96-4f69-4b3f-86a3-82d4d7900a6a",
   "metadata": {},
   "outputs": [
    {
     "data": {
      "text/plain": [
       "name\n",
       "BEST√Ö        173\n",
       "PAX           111\n",
       "GR√ñNLID       83\n",
       "TROFAST        74\n",
       "BEKANT         74\n",
       "             ... \n",
       "LILL√ÖSEN       1\n",
       "LUBBAN          1\n",
       "BERGENES        1\n",
       "BURVIK          1\n",
       "L√ñVBACKEN      1\n",
       "Name: count, Length: 607, dtype: int64"
      ]
     },
     "execution_count": 5,
     "metadata": {},
     "output_type": "execute_result"
    }
   ],
   "source": [
    "ikea['name'].value_counts()"
   ]
  },
  {
   "cell_type": "code",
   "execution_count": 6,
   "id": "f2de5114-37ed-4539-8db3-f38029820540",
   "metadata": {},
   "outputs": [
    {
     "data": {
      "text/plain": [
       "category\n",
       "Tables & desks                          612\n",
       "Bookcases & shelving units              548\n",
       "Chairs                                  481\n",
       "Sofas & armchairs                       428\n",
       "Cabinets & cupboards                    292\n",
       "Wardrobes                               236\n",
       "Outdoor furniture                       216\n",
       "Beds                                    208\n",
       "TV & media furniture                    190\n",
       "Chests of drawers & drawer units        125\n",
       "Children's furniture                    124\n",
       "Nursery furniture                        97\n",
       "Bar furniture                            47\n",
       "Trolleys                                 28\n",
       "Caf√© furniture                          26\n",
       "Sideboards, buffets & console tables     23\n",
       "Room dividers                            13\n",
       "Name: count, dtype: int64"
      ]
     },
     "execution_count": 6,
     "metadata": {},
     "output_type": "execute_result"
    }
   ],
   "source": [
    "ikea['category'].value_counts()"
   ]
  },
  {
   "cell_type": "code",
   "execution_count": null,
   "id": "b90cc430-bd76-4142-aabd-3644eb26a688",
   "metadata": {},
   "outputs": [],
   "source": [
    "#Chairs,sofas armchairs,TV & media furniture,Bar furniture,Sideboards, buffets & console tables-seating\n",
    "#Wardrobes,Chests of drawers & drawer units,Nursery furniture,beds-bedroom\n",
    "#Tables & desks ,Cabinets & cupboards,Bookcases & shelving units -office room\n",
    "#Trolleys,Bar furniture-kitchen\n",
    "#Caf√© furniture,Outdoor furniture-outdoor\n",
    "#Children's furniture-kids"
   ]
  },
  {
   "cell_type": "code",
   "execution_count": 3,
   "id": "1d581095-d5f6-40c3-b27c-52af9e4a3006",
   "metadata": {},
   "outputs": [
    {
     "data": {
      "text/plain": [
       "category\n",
       "Tables & desks                          612\n",
       "Bookcases & shelving units              548\n",
       "Chairs                                  481\n",
       "Sofas & armchairs                       428\n",
       "Cabinets & cupboards                    292\n",
       "Wardrobes                               236\n",
       "Outdoor furniture                       216\n",
       "Beds                                    208\n",
       "TV & media furniture                    190\n",
       "Chests of drawers & drawer units        125\n",
       "Children's furniture                    124\n",
       "Nursery furniture                        97\n",
       "Bar furniture                            47\n",
       "Trolleys                                 28\n",
       "Caf√© furniture                          26\n",
       "Sideboards, buffets & console tables     23\n",
       "Room dividers                            13\n",
       "Name: count, dtype: int64"
      ]
     },
     "execution_count": 3,
     "metadata": {},
     "output_type": "execute_result"
    }
   ],
   "source": [
    "ikea['category'].value_counts()"
   ]
  },
  {
   "cell_type": "code",
   "execution_count": 19,
   "id": "41c73df4-7f39-4ca3-8fc7-61b4105cf629",
   "metadata": {},
   "outputs": [
    {
     "ename": "SyntaxError",
     "evalue": "unterminated string literal (detected at line 1) (3954392718.py, line 1)",
     "output_type": "error",
     "traceback": [
      "\u001b[1;36m  Cell \u001b[1;32mIn[19], line 1\u001b[1;36m\u001b[0m\n\u001b[1;33m    mapping_room={'Sofas':'Seating room','tv':'Seating room’}\u001b[0m\n\u001b[1;37m                                              ^\u001b[0m\n\u001b[1;31mSyntaxError\u001b[0m\u001b[1;31m:\u001b[0m unterminated string literal (detected at line 1)\n"
     ]
    }
   ],
   "source": [
    "# mapping_room={'Sofas & armchairs':'Seating room','tv':'Seating room’}\n",
    "# ikea[‘Furniture category’]=ikea[‘category’].map(mapping_room)"
   ]
  },
  {
   "cell_type": "code",
   "execution_count": null,
   "id": "5972679e-fdda-422c-ac09-0c0040296def",
   "metadata": {},
   "outputs": [],
   "source": [
    "#Chairs,sofas armchairs,TV & media furniture,Bar furniture,Sideboards, buffets & console tables-seating\n",
    "#Wardrobes,Chests of drawers & drawer units,Nursery furniture,beds-bedroom\n",
    "#Tables & desks ,Cabinets & cupboards,Bookcases & shelving units -office room\n",
    "#Trolleys,Bar furniture-kitchen\n",
    "#Caf√© furniture,Outdoor furniture-outdoor\n",
    "#Children's furniture-kids"
   ]
  },
  {
   "cell_type": "code",
   "execution_count": 25,
   "id": "2fd82a91-eeca-4f14-8044-6fdf14d2ecdf",
   "metadata": {},
   "outputs": [],
   "source": [
    "ikea['category']=ikea['category'].replace({'Wardrobes':'bedroom','Chests of drawers & drawer units':'bedroom','Beds':'bedroom'})"
   ]
  },
  {
   "cell_type": "code",
   "execution_count": 27,
   "id": "0cda33a6-bdf6-4115-914c-c8b01fc8b1d2",
   "metadata": {},
   "outputs": [],
   "source": [
    "ikea['category']=ikea['category'].replace({'Tables & desks':'office room','Chests of drawers & drawer units':'office room','Bookcases & shelving units':'office room'})"
   ]
  },
  {
   "cell_type": "code",
   "execution_count": 28,
   "id": "c49aa91f-cea8-49ed-b32c-78dbc47296b0",
   "metadata": {},
   "outputs": [],
   "source": [
    "ikea['category']=ikea['category'].replace({'Trolleys':'kitchen','Bar furniture':'kitchen'})"
   ]
  },
  {
   "cell_type": "code",
   "execution_count": 29,
   "id": "5c1fbc64-0d72-411d-b5fc-7433f1b926a8",
   "metadata": {},
   "outputs": [],
   "source": [
    "ikea['category']=ikea['category'].replace({'Caf√© furniture':'outdoor','Outdoor furniture':'outdoor'})"
   ]
  },
  {
   "cell_type": "code",
   "execution_count": 32,
   "id": "064236d5-6af5-426a-82dd-fd4b457f69df",
   "metadata": {},
   "outputs": [],
   "source": [
    "ikea['category']=ikea['category'].replace({\"Children's furniture\":\"kids\"})"
   ]
  },
  {
   "cell_type": "code",
   "execution_count": 21,
   "id": "bfcea008-4510-4409-8598-0aa836f842ec",
   "metadata": {},
   "outputs": [],
   "source": [
    "ikea['category'] = ikea['category'].replace({'Sofas & armchairs': 'Seating room', 'TV & media furniture': 'Seating room','Bar furniture':'Seating room','Sideboards, buffets & console tables':'Seating room','Chairs':'Seating room'})"
   ]
  },
  {
   "cell_type": "code",
   "execution_count": 33,
   "id": "ff71eac9-b6ba-4bea-99ee-6df115a4a8d5",
   "metadata": {},
   "outputs": [
    {
     "data": {
      "text/plain": [
       "category\n",
       "Seating room            1169\n",
       "office room             1160\n",
       "bedroom                  569\n",
       "Cabinets & cupboards     292\n",
       "outdoor                  242\n",
       "kids                     124\n",
       "Nursery furniture         97\n",
       "kitchen                   28\n",
       "Room dividers             13\n",
       "Name: count, dtype: int64"
      ]
     },
     "execution_count": 33,
     "metadata": {},
     "output_type": "execute_result"
    }
   ],
   "source": [
    "ikea['category'].value_counts()"
   ]
  },
  {
   "cell_type": "code",
   "execution_count": 35,
   "id": "c8a4cbf6-908c-47d5-ac38-345a0806c403",
   "metadata": {},
   "outputs": [],
   "source": [
    "ikea['category'] = ikea['category'].replace({'Cabinets & cupboards':'office room','Nursery furniture':'Seating room','Room dividers':'Seating room'})"
   ]
  },
  {
   "cell_type": "code",
   "execution_count": 36,
   "id": "c803820f-ff5c-48f8-8ae7-3c5a7c9d01ed",
   "metadata": {},
   "outputs": [
    {
     "data": {
      "text/plain": [
       "category\n",
       "Seating room    1571\n",
       "office room     1160\n",
       "bedroom          569\n",
       "outdoor          242\n",
       "kids             124\n",
       "kitchen           28\n",
       "Name: count, dtype: int64"
      ]
     },
     "execution_count": 36,
     "metadata": {},
     "output_type": "execute_result"
    }
   ],
   "source": [
    "ikea['category'].value_counts()"
   ]
  },
  {
   "cell_type": "code",
   "execution_count": 37,
   "id": "ac115a4f-32c4-4bcb-9905-f956a7c02526",
   "metadata": {},
   "outputs": [
    {
     "data": {
      "text/html": [
       "<div>\n",
       "<style scoped>\n",
       "    .dataframe tbody tr th:only-of-type {\n",
       "        vertical-align: middle;\n",
       "    }\n",
       "\n",
       "    .dataframe tbody tr th {\n",
       "        vertical-align: top;\n",
       "    }\n",
       "\n",
       "    .dataframe thead th {\n",
       "        text-align: right;\n",
       "    }\n",
       "</style>\n",
       "<table border=\"1\" class=\"dataframe\">\n",
       "  <thead>\n",
       "    <tr style=\"text-align: right;\">\n",
       "      <th></th>\n",
       "      <th>item_id</th>\n",
       "      <th>name</th>\n",
       "      <th>category</th>\n",
       "      <th>price</th>\n",
       "      <th>old_price</th>\n",
       "      <th>sellable_online</th>\n",
       "      <th>link</th>\n",
       "      <th>other_colors</th>\n",
       "      <th>short_description</th>\n",
       "      <th>designer</th>\n",
       "      <th>...</th>\n",
       "      <th>current_status</th>\n",
       "      <th>kewords</th>\n",
       "      <th>topic_group</th>\n",
       "      <th>topic_desc</th>\n",
       "      <th>seating</th>\n",
       "      <th>bedroom</th>\n",
       "      <th>office room</th>\n",
       "      <th>kitchen</th>\n",
       "      <th>outdoor</th>\n",
       "      <th>kids</th>\n",
       "    </tr>\n",
       "  </thead>\n",
       "  <tbody>\n",
       "    <tr>\n",
       "      <th>0</th>\n",
       "      <td>90420332</td>\n",
       "      <td>FREKVENS</td>\n",
       "      <td>Seating room</td>\n",
       "      <td>265.0</td>\n",
       "      <td>No old price</td>\n",
       "      <td>True</td>\n",
       "      <td>https://www.ikea.com/sa/en/p/frekvens-bar-tabl...</td>\n",
       "      <td>No</td>\n",
       "      <td>Bar table, in/outdoor,          51x51 cm</td>\n",
       "      <td>Nicholai Wiig Hansen</td>\n",
       "      <td>...</td>\n",
       "      <td>Item discontinued</td>\n",
       "      <td>NaN</td>\n",
       "      <td>NaN</td>\n",
       "      <td>NaN</td>\n",
       "      <td>seating room</td>\n",
       "      <td>NaN</td>\n",
       "      <td>NaN</td>\n",
       "      <td>kitchen</td>\n",
       "      <td>NaN</td>\n",
       "      <td>NaN</td>\n",
       "    </tr>\n",
       "    <tr>\n",
       "      <th>1</th>\n",
       "      <td>80155205</td>\n",
       "      <td>STIG</td>\n",
       "      <td>Seating room</td>\n",
       "      <td>69.0</td>\n",
       "      <td>No old price</td>\n",
       "      <td>True</td>\n",
       "      <td>https://www.ikea.com/sa/en/p/stig-bar-stool-wi...</td>\n",
       "      <td>Yes</td>\n",
       "      <td>Bar stool with backrest,          74 cm</td>\n",
       "      <td>Henrik Preutz</td>\n",
       "      <td>...</td>\n",
       "      <td>Item discontinued</td>\n",
       "      <td>NaN</td>\n",
       "      <td>NaN</td>\n",
       "      <td>NaN</td>\n",
       "      <td>seating room</td>\n",
       "      <td>NaN</td>\n",
       "      <td>NaN</td>\n",
       "      <td>kitchen</td>\n",
       "      <td>NaN</td>\n",
       "      <td>NaN</td>\n",
       "    </tr>\n",
       "    <tr>\n",
       "      <th>2</th>\n",
       "      <td>50420329</td>\n",
       "      <td>FREKVENS</td>\n",
       "      <td>Seating room</td>\n",
       "      <td>177.0</td>\n",
       "      <td>SR 295</td>\n",
       "      <td>True</td>\n",
       "      <td>https://www.ikea.com/sa/en/p/frekvens-bar-stoo...</td>\n",
       "      <td>No</td>\n",
       "      <td>Bar stool with backrest, in/outdoor,  ...</td>\n",
       "      <td>Nicholai Wiig Hansen</td>\n",
       "      <td>...</td>\n",
       "      <td>Item discontinued</td>\n",
       "      <td>NaN</td>\n",
       "      <td>NaN</td>\n",
       "      <td>NaN</td>\n",
       "      <td>seating room</td>\n",
       "      <td>NaN</td>\n",
       "      <td>NaN</td>\n",
       "      <td>kitchen</td>\n",
       "      <td>NaN</td>\n",
       "      <td>NaN</td>\n",
       "    </tr>\n",
       "    <tr>\n",
       "      <th>3</th>\n",
       "      <td>400550</td>\n",
       "      <td>EKEDALEN</td>\n",
       "      <td>Seating room</td>\n",
       "      <td>345.0</td>\n",
       "      <td>No old price</td>\n",
       "      <td>True</td>\n",
       "      <td>https://www.ikea.com/sa/en/p/ekedalen-bar-stoo...</td>\n",
       "      <td>No</td>\n",
       "      <td>Bar stool with backrest,          75 cm</td>\n",
       "      <td>Ehl√©n Johansson</td>\n",
       "      <td>...</td>\n",
       "      <td>Item discontinued</td>\n",
       "      <td>NaN</td>\n",
       "      <td>NaN</td>\n",
       "      <td>NaN</td>\n",
       "      <td>seating room</td>\n",
       "      <td>NaN</td>\n",
       "      <td>NaN</td>\n",
       "      <td>kitchen</td>\n",
       "      <td>NaN</td>\n",
       "      <td>NaN</td>\n",
       "    </tr>\n",
       "    <tr>\n",
       "      <th>4</th>\n",
       "      <td>40426138</td>\n",
       "      <td>HENRIKSDAL</td>\n",
       "      <td>Seating room</td>\n",
       "      <td>395.0</td>\n",
       "      <td>No old price</td>\n",
       "      <td>True</td>\n",
       "      <td>https://www.ikea.com/sa/en/p/henriksdal-bar-st...</td>\n",
       "      <td>No</td>\n",
       "      <td>Bar stool with backrest frame,        ...</td>\n",
       "      <td>Karl Malmvall</td>\n",
       "      <td>...</td>\n",
       "      <td>Item discontinued</td>\n",
       "      <td>NaN</td>\n",
       "      <td>NaN</td>\n",
       "      <td>NaN</td>\n",
       "      <td>seating room</td>\n",
       "      <td>NaN</td>\n",
       "      <td>NaN</td>\n",
       "      <td>kitchen</td>\n",
       "      <td>NaN</td>\n",
       "      <td>NaN</td>\n",
       "    </tr>\n",
       "  </tbody>\n",
       "</table>\n",
       "<p>5 rows × 24 columns</p>\n",
       "</div>"
      ],
      "text/plain": [
       "    item_id        name      category  price     old_price  sellable_online  \\\n",
       "0  90420332    FREKVENS  Seating room  265.0  No old price             True   \n",
       "1  80155205        STIG  Seating room   69.0  No old price             True   \n",
       "2  50420329    FREKVENS  Seating room  177.0        SR 295             True   \n",
       "3    400550    EKEDALEN  Seating room  345.0  No old price             True   \n",
       "4  40426138  HENRIKSDAL  Seating room  395.0  No old price             True   \n",
       "\n",
       "                                                link other_colors  \\\n",
       "0  https://www.ikea.com/sa/en/p/frekvens-bar-tabl...           No   \n",
       "1  https://www.ikea.com/sa/en/p/stig-bar-stool-wi...          Yes   \n",
       "2  https://www.ikea.com/sa/en/p/frekvens-bar-stoo...           No   \n",
       "3  https://www.ikea.com/sa/en/p/ekedalen-bar-stoo...           No   \n",
       "4  https://www.ikea.com/sa/en/p/henriksdal-bar-st...           No   \n",
       "\n",
       "                                   short_description              designer  \\\n",
       "0           Bar table, in/outdoor,          51x51 cm  Nicholai Wiig Hansen   \n",
       "1            Bar stool with backrest,          74 cm         Henrik Preutz   \n",
       "2          Bar stool with backrest, in/outdoor,  ...  Nicholai Wiig Hansen   \n",
       "3            Bar stool with backrest,          75 cm      Ehl√©n Johansson   \n",
       "4          Bar stool with backrest frame,        ...         Karl Malmvall   \n",
       "\n",
       "   ...     current_status  kewords  topic_group topic_desc       seating  \\\n",
       "0  ...  Item discontinued      NaN          NaN        NaN  seating room   \n",
       "1  ...  Item discontinued      NaN          NaN        NaN  seating room   \n",
       "2  ...  Item discontinued      NaN          NaN        NaN  seating room   \n",
       "3  ...  Item discontinued      NaN          NaN        NaN  seating room   \n",
       "4  ...  Item discontinued      NaN          NaN        NaN  seating room   \n",
       "\n",
       "  bedroom  office room  kitchen outdoor kids  \n",
       "0     NaN          NaN  kitchen     NaN  NaN  \n",
       "1     NaN          NaN  kitchen     NaN  NaN  \n",
       "2     NaN          NaN  kitchen     NaN  NaN  \n",
       "3     NaN          NaN  kitchen     NaN  NaN  \n",
       "4     NaN          NaN  kitchen     NaN  NaN  \n",
       "\n",
       "[5 rows x 24 columns]"
      ]
     },
     "execution_count": 37,
     "metadata": {},
     "output_type": "execute_result"
    }
   ],
   "source": [
    "ikea.head()"
   ]
  },
  {
   "cell_type": "code",
   "execution_count": 22,
   "id": "18bd496f-00e5-4d35-83f8-db784ee34977",
   "metadata": {
    "scrolled": true
   },
   "outputs": [
    {
     "data": {
      "text/plain": [
       "old_price\n",
       "No old price    3040\n",
       "SR 995            12\n",
       "SR 1,385          11\n",
       "SR 595            10\n",
       "SR 275             8\n",
       "                ... \n",
       "SR 2,395           1\n",
       "SR 1,250           1\n",
       "SR 1,815           1\n",
       "SR 820             1\n",
       "SR 8,735           1\n",
       "Name: count, Length: 365, dtype: int64"
      ]
     },
     "execution_count": 22,
     "metadata": {},
     "output_type": "execute_result"
    }
   ],
   "source": [
    "ikea['old_price'].value_counts()"
   ]
  },
  {
   "cell_type": "code",
   "execution_count": 22,
   "id": "8da179d1-2898-4269-bea0-0bf2000408dc",
   "metadata": {},
   "outputs": [
    {
     "data": {
      "text/html": [
       "<div>\n",
       "<style scoped>\n",
       "    .dataframe tbody tr th:only-of-type {\n",
       "        vertical-align: middle;\n",
       "    }\n",
       "\n",
       "    .dataframe tbody tr th {\n",
       "        vertical-align: top;\n",
       "    }\n",
       "\n",
       "    .dataframe thead th {\n",
       "        text-align: right;\n",
       "    }\n",
       "</style>\n",
       "<table border=\"1\" class=\"dataframe\">\n",
       "  <thead>\n",
       "    <tr style=\"text-align: right;\">\n",
       "      <th></th>\n",
       "      <th>item_id</th>\n",
       "      <th>name</th>\n",
       "      <th>category</th>\n",
       "      <th>price</th>\n",
       "      <th>old_price</th>\n",
       "      <th>sellable_online</th>\n",
       "      <th>link</th>\n",
       "      <th>other_colors</th>\n",
       "      <th>short_description</th>\n",
       "      <th>designer</th>\n",
       "      <th>depth</th>\n",
       "      <th>height</th>\n",
       "      <th>width</th>\n",
       "      <th>product_description</th>\n",
       "      <th>current_status</th>\n",
       "      <th>kewords</th>\n",
       "      <th>topic_group</th>\n",
       "      <th>topic_desc</th>\n",
       "    </tr>\n",
       "  </thead>\n",
       "  <tbody>\n",
       "    <tr>\n",
       "      <th>0</th>\n",
       "      <td>90420332</td>\n",
       "      <td>FREKVENS</td>\n",
       "      <td>Bar furniture</td>\n",
       "      <td>265.0</td>\n",
       "      <td>No old price</td>\n",
       "      <td>True</td>\n",
       "      <td>https://www.ikea.com/sa/en/p/frekvens-bar-tabl...</td>\n",
       "      <td>No</td>\n",
       "      <td>Bar table, in/outdoor,          51x51 cm</td>\n",
       "      <td>Nicholai Wiig Hansen</td>\n",
       "      <td>NaN</td>\n",
       "      <td>99.0</td>\n",
       "      <td>51.0</td>\n",
       "      <td>Item discontinued</td>\n",
       "      <td>Item discontinued</td>\n",
       "      <td>NaN</td>\n",
       "      <td>NaN</td>\n",
       "      <td>NaN</td>\n",
       "    </tr>\n",
       "    <tr>\n",
       "      <th>1</th>\n",
       "      <td>80155205</td>\n",
       "      <td>STIG</td>\n",
       "      <td>Bar furniture</td>\n",
       "      <td>69.0</td>\n",
       "      <td>No old price</td>\n",
       "      <td>True</td>\n",
       "      <td>https://www.ikea.com/sa/en/p/stig-bar-stool-wi...</td>\n",
       "      <td>Yes</td>\n",
       "      <td>Bar stool with backrest,          74 cm</td>\n",
       "      <td>Henrik Preutz</td>\n",
       "      <td>50.0</td>\n",
       "      <td>100.0</td>\n",
       "      <td>60.0</td>\n",
       "      <td>Item discontinued</td>\n",
       "      <td>Item discontinued</td>\n",
       "      <td>NaN</td>\n",
       "      <td>NaN</td>\n",
       "      <td>NaN</td>\n",
       "    </tr>\n",
       "    <tr>\n",
       "      <th>2</th>\n",
       "      <td>50420329</td>\n",
       "      <td>FREKVENS</td>\n",
       "      <td>Bar furniture</td>\n",
       "      <td>177.0</td>\n",
       "      <td>SR 295</td>\n",
       "      <td>True</td>\n",
       "      <td>https://www.ikea.com/sa/en/p/frekvens-bar-stoo...</td>\n",
       "      <td>No</td>\n",
       "      <td>Bar stool with backrest, in/outdoor,  ...</td>\n",
       "      <td>Nicholai Wiig Hansen</td>\n",
       "      <td>53.0</td>\n",
       "      <td>104.0</td>\n",
       "      <td>43.0</td>\n",
       "      <td>Item discontinued</td>\n",
       "      <td>Item discontinued</td>\n",
       "      <td>NaN</td>\n",
       "      <td>NaN</td>\n",
       "      <td>NaN</td>\n",
       "    </tr>\n",
       "    <tr>\n",
       "      <th>3</th>\n",
       "      <td>400550</td>\n",
       "      <td>EKEDALEN</td>\n",
       "      <td>Bar furniture</td>\n",
       "      <td>345.0</td>\n",
       "      <td>No old price</td>\n",
       "      <td>True</td>\n",
       "      <td>https://www.ikea.com/sa/en/p/ekedalen-bar-stoo...</td>\n",
       "      <td>No</td>\n",
       "      <td>Bar stool with backrest,          75 cm</td>\n",
       "      <td>Ehl√©n Johansson</td>\n",
       "      <td>52.0</td>\n",
       "      <td>114.0</td>\n",
       "      <td>43.0</td>\n",
       "      <td>Item discontinued</td>\n",
       "      <td>Item discontinued</td>\n",
       "      <td>NaN</td>\n",
       "      <td>NaN</td>\n",
       "      <td>NaN</td>\n",
       "    </tr>\n",
       "    <tr>\n",
       "      <th>4</th>\n",
       "      <td>40426138</td>\n",
       "      <td>HENRIKSDAL</td>\n",
       "      <td>Bar furniture</td>\n",
       "      <td>395.0</td>\n",
       "      <td>No old price</td>\n",
       "      <td>True</td>\n",
       "      <td>https://www.ikea.com/sa/en/p/henriksdal-bar-st...</td>\n",
       "      <td>No</td>\n",
       "      <td>Bar stool with backrest frame,        ...</td>\n",
       "      <td>Karl Malmvall</td>\n",
       "      <td>51.0</td>\n",
       "      <td>102.0</td>\n",
       "      <td>40.0</td>\n",
       "      <td>Item discontinued</td>\n",
       "      <td>Item discontinued</td>\n",
       "      <td>NaN</td>\n",
       "      <td>NaN</td>\n",
       "      <td>NaN</td>\n",
       "    </tr>\n",
       "  </tbody>\n",
       "</table>\n",
       "</div>"
      ],
      "text/plain": [
       "    item_id        name       category  price     old_price  sellable_online  \\\n",
       "0  90420332    FREKVENS  Bar furniture  265.0  No old price             True   \n",
       "1  80155205        STIG  Bar furniture   69.0  No old price             True   \n",
       "2  50420329    FREKVENS  Bar furniture  177.0        SR 295             True   \n",
       "3    400550    EKEDALEN  Bar furniture  345.0  No old price             True   \n",
       "4  40426138  HENRIKSDAL  Bar furniture  395.0  No old price             True   \n",
       "\n",
       "                                                link other_colors  \\\n",
       "0  https://www.ikea.com/sa/en/p/frekvens-bar-tabl...           No   \n",
       "1  https://www.ikea.com/sa/en/p/stig-bar-stool-wi...          Yes   \n",
       "2  https://www.ikea.com/sa/en/p/frekvens-bar-stoo...           No   \n",
       "3  https://www.ikea.com/sa/en/p/ekedalen-bar-stoo...           No   \n",
       "4  https://www.ikea.com/sa/en/p/henriksdal-bar-st...           No   \n",
       "\n",
       "                                   short_description              designer  \\\n",
       "0           Bar table, in/outdoor,          51x51 cm  Nicholai Wiig Hansen   \n",
       "1            Bar stool with backrest,          74 cm         Henrik Preutz   \n",
       "2          Bar stool with backrest, in/outdoor,  ...  Nicholai Wiig Hansen   \n",
       "3            Bar stool with backrest,          75 cm      Ehl√©n Johansson   \n",
       "4          Bar stool with backrest frame,        ...         Karl Malmvall   \n",
       "\n",
       "   depth  height  width product_description     current_status kewords  \\\n",
       "0    NaN    99.0   51.0   Item discontinued  Item discontinued     NaN   \n",
       "1   50.0   100.0   60.0   Item discontinued  Item discontinued     NaN   \n",
       "2   53.0   104.0   43.0   Item discontinued  Item discontinued     NaN   \n",
       "3   52.0   114.0   43.0   Item discontinued  Item discontinued     NaN   \n",
       "4   51.0   102.0   40.0   Item discontinued  Item discontinued     NaN   \n",
       "\n",
       "   topic_group topic_desc  \n",
       "0          NaN        NaN  \n",
       "1          NaN        NaN  \n",
       "2          NaN        NaN  \n",
       "3          NaN        NaN  \n",
       "4          NaN        NaN  "
      ]
     },
     "execution_count": 22,
     "metadata": {},
     "output_type": "execute_result"
    }
   ],
   "source": [
    "ikea['old_price'] = ikea['old_price'].replace({'SR 3,585':'sr','SR 1,755':'sr','SR 1,400':'sr','SR 215':'sr','SR 2,375':'sr','SR 910':'sr','SR 995':'sr','SR 1,385':'sr','SR 595':'sr','SR 275':'sr','SR 1,250':'sr','SR 1,815':'sr','SR 8,735':'sr','SR 820':'sr'})\n",
    "ikea.head()"
   ]
  },
  {
   "cell_type": "code",
   "execution_count": 23,
   "id": "393cb115-5d07-4e09-b73e-4219a9a167d7",
   "metadata": {},
   "outputs": [
    {
     "data": {
      "text/plain": [
       "old_price\n",
       "No old price    3040\n",
       "sr                46\n",
       "SR                11\n",
       "SR 175             7\n",
       "SR 1,495           7\n",
       "                ... \n",
       "SR 99              1\n",
       "SR 525             1\n",
       "SR 1,625           1\n",
       "SR 570             1\n",
       "SR 4,510           1\n",
       "Name: count, Length: 353, dtype: int64"
      ]
     },
     "execution_count": 23,
     "metadata": {},
     "output_type": "execute_result"
    }
   ],
   "source": [
    "ikea['old_price'].value_counts()"
   ]
  },
  {
   "cell_type": "code",
   "execution_count": null,
   "id": "b0180900-edf4-4b83-b00f-5935957d9ccc",
   "metadata": {},
   "outputs": [],
   "source": [
    "#no old price\n",
    "#all sr"
   ]
  },
  {
   "cell_type": "code",
   "execution_count": 11,
   "id": "e66faa3e-77e7-4071-b33a-981d525a4036",
   "metadata": {},
   "outputs": [
    {
     "data": {
      "text/plain": [
       "sellable_online\n",
       "True     3666\n",
       "False      28\n",
       "Name: count, dtype: int64"
      ]
     },
     "execution_count": 11,
     "metadata": {},
     "output_type": "execute_result"
    }
   ],
   "source": [
    "ikea['sellable_online'].value_counts()"
   ]
  },
  {
   "cell_type": "code",
   "execution_count": 12,
   "id": "a9d638af-de13-49dc-b837-5603defbd96b",
   "metadata": {},
   "outputs": [
    {
     "data": {
      "text/plain": [
       "other_colors\n",
       "No     2182\n",
       "Yes    1512\n",
       "Name: count, dtype: int64"
      ]
     },
     "execution_count": 12,
     "metadata": {},
     "output_type": "execute_result"
    }
   ],
   "source": [
    "ikea['other_colors'].value_counts()"
   ]
  },
  {
   "cell_type": "code",
   "execution_count": 16,
   "id": "c0a7e14d-2c76-4851-95ad-73e0b4e017ae",
   "metadata": {},
   "outputs": [
    {
     "data": {
      "text/plain": [
       "current_status\n",
       "Item discontinued                2285\n",
       "Item still available for sale    1409\n",
       "Name: count, dtype: int64"
      ]
     },
     "execution_count": 16,
     "metadata": {},
     "output_type": "execute_result"
    }
   ],
   "source": [
    "ikea['current_status'].value_counts()"
   ]
  },
  {
   "cell_type": "code",
   "execution_count": 23,
   "id": "ee71ac39-e5af-44d5-86e7-249fcca21147",
   "metadata": {},
   "outputs": [
    {
     "data": {
      "text/plain": [
       "item_id                   0\n",
       "name                      0\n",
       "category                  0\n",
       "price                     0\n",
       "old_price                 0\n",
       "sellable_online           0\n",
       "link                      0\n",
       "other_colors              0\n",
       "short_description         0\n",
       "designer                  0\n",
       "depth                     0\n",
       "height                    0\n",
       "width                     0\n",
       "product_description       0\n",
       "current_status            0\n",
       "kewords                2300\n",
       "topic_group            2285\n",
       "topic_desc             2285\n",
       "dtype: int64"
      ]
     },
     "execution_count": 23,
     "metadata": {},
     "output_type": "execute_result"
    }
   ],
   "source": [
    "ikea.isnull().sum()"
   ]
  },
  {
   "cell_type": "code",
   "execution_count": null,
   "id": "f25a28d7-06c2-4d48-8906-11db36d93078",
   "metadata": {},
   "outputs": [],
   "source": [
    "#artiq 3 sutunda hedden artiq null olmasi esasinda siline biler"
   ]
  },
  {
   "cell_type": "code",
   "execution_count": 8,
   "id": "888805e8-99d0-4526-a87f-2454080deaca",
   "metadata": {},
   "outputs": [
    {
     "data": {
      "text/html": [
       "<div>\n",
       "<style scoped>\n",
       "    .dataframe tbody tr th:only-of-type {\n",
       "        vertical-align: middle;\n",
       "    }\n",
       "\n",
       "    .dataframe tbody tr th {\n",
       "        vertical-align: top;\n",
       "    }\n",
       "\n",
       "    .dataframe thead th {\n",
       "        text-align: right;\n",
       "    }\n",
       "</style>\n",
       "<table border=\"1\" class=\"dataframe\">\n",
       "  <thead>\n",
       "    <tr style=\"text-align: right;\">\n",
       "      <th></th>\n",
       "      <th>item_id</th>\n",
       "      <th>name</th>\n",
       "      <th>category</th>\n",
       "      <th>price</th>\n",
       "      <th>old_price</th>\n",
       "      <th>sellable_online</th>\n",
       "      <th>link</th>\n",
       "      <th>other_colors</th>\n",
       "      <th>short_description</th>\n",
       "      <th>designer</th>\n",
       "      <th>depth</th>\n",
       "      <th>height</th>\n",
       "      <th>width</th>\n",
       "      <th>product_description</th>\n",
       "      <th>current_status</th>\n",
       "      <th>bedroom</th>\n",
       "    </tr>\n",
       "  </thead>\n",
       "  <tbody>\n",
       "    <tr>\n",
       "      <th>0</th>\n",
       "      <td>90420332</td>\n",
       "      <td>FREKVENS</td>\n",
       "      <td>Bar furniture</td>\n",
       "      <td>265.0</td>\n",
       "      <td>No old price</td>\n",
       "      <td>True</td>\n",
       "      <td>https://www.ikea.com/sa/en/p/frekvens-bar-tabl...</td>\n",
       "      <td>No</td>\n",
       "      <td>Bar table, in/outdoor,          51x51 cm</td>\n",
       "      <td>Nicholai Wiig Hansen</td>\n",
       "      <td>NaN</td>\n",
       "      <td>99.0</td>\n",
       "      <td>51.0</td>\n",
       "      <td>Item discontinued</td>\n",
       "      <td>Item discontinued</td>\n",
       "      <td>NaN</td>\n",
       "    </tr>\n",
       "    <tr>\n",
       "      <th>1</th>\n",
       "      <td>80155205</td>\n",
       "      <td>STIG</td>\n",
       "      <td>Bar furniture</td>\n",
       "      <td>69.0</td>\n",
       "      <td>No old price</td>\n",
       "      <td>True</td>\n",
       "      <td>https://www.ikea.com/sa/en/p/stig-bar-stool-wi...</td>\n",
       "      <td>Yes</td>\n",
       "      <td>Bar stool with backrest,          74 cm</td>\n",
       "      <td>Henrik Preutz</td>\n",
       "      <td>50.0</td>\n",
       "      <td>100.0</td>\n",
       "      <td>60.0</td>\n",
       "      <td>Item discontinued</td>\n",
       "      <td>Item discontinued</td>\n",
       "      <td>NaN</td>\n",
       "    </tr>\n",
       "    <tr>\n",
       "      <th>2</th>\n",
       "      <td>50420329</td>\n",
       "      <td>FREKVENS</td>\n",
       "      <td>Bar furniture</td>\n",
       "      <td>177.0</td>\n",
       "      <td>SR 295</td>\n",
       "      <td>True</td>\n",
       "      <td>https://www.ikea.com/sa/en/p/frekvens-bar-stoo...</td>\n",
       "      <td>No</td>\n",
       "      <td>Bar stool with backrest, in/outdoor,  ...</td>\n",
       "      <td>Nicholai Wiig Hansen</td>\n",
       "      <td>53.0</td>\n",
       "      <td>104.0</td>\n",
       "      <td>43.0</td>\n",
       "      <td>Item discontinued</td>\n",
       "      <td>Item discontinued</td>\n",
       "      <td>NaN</td>\n",
       "    </tr>\n",
       "    <tr>\n",
       "      <th>3</th>\n",
       "      <td>400550</td>\n",
       "      <td>EKEDALEN</td>\n",
       "      <td>Bar furniture</td>\n",
       "      <td>345.0</td>\n",
       "      <td>No old price</td>\n",
       "      <td>True</td>\n",
       "      <td>https://www.ikea.com/sa/en/p/ekedalen-bar-stoo...</td>\n",
       "      <td>No</td>\n",
       "      <td>Bar stool with backrest,          75 cm</td>\n",
       "      <td>Ehl√©n Johansson</td>\n",
       "      <td>52.0</td>\n",
       "      <td>114.0</td>\n",
       "      <td>43.0</td>\n",
       "      <td>Item discontinued</td>\n",
       "      <td>Item discontinued</td>\n",
       "      <td>NaN</td>\n",
       "    </tr>\n",
       "    <tr>\n",
       "      <th>4</th>\n",
       "      <td>40426138</td>\n",
       "      <td>HENRIKSDAL</td>\n",
       "      <td>Bar furniture</td>\n",
       "      <td>395.0</td>\n",
       "      <td>No old price</td>\n",
       "      <td>True</td>\n",
       "      <td>https://www.ikea.com/sa/en/p/henriksdal-bar-st...</td>\n",
       "      <td>No</td>\n",
       "      <td>Bar stool with backrest frame,        ...</td>\n",
       "      <td>Karl Malmvall</td>\n",
       "      <td>51.0</td>\n",
       "      <td>102.0</td>\n",
       "      <td>40.0</td>\n",
       "      <td>Item discontinued</td>\n",
       "      <td>Item discontinued</td>\n",
       "      <td>NaN</td>\n",
       "    </tr>\n",
       "  </tbody>\n",
       "</table>\n",
       "</div>"
      ],
      "text/plain": [
       "    item_id        name       category  price     old_price  sellable_online  \\\n",
       "0  90420332    FREKVENS  Bar furniture  265.0  No old price             True   \n",
       "1  80155205        STIG  Bar furniture   69.0  No old price             True   \n",
       "2  50420329    FREKVENS  Bar furniture  177.0        SR 295             True   \n",
       "3    400550    EKEDALEN  Bar furniture  345.0  No old price             True   \n",
       "4  40426138  HENRIKSDAL  Bar furniture  395.0  No old price             True   \n",
       "\n",
       "                                                link other_colors  \\\n",
       "0  https://www.ikea.com/sa/en/p/frekvens-bar-tabl...           No   \n",
       "1  https://www.ikea.com/sa/en/p/stig-bar-stool-wi...          Yes   \n",
       "2  https://www.ikea.com/sa/en/p/frekvens-bar-stoo...           No   \n",
       "3  https://www.ikea.com/sa/en/p/ekedalen-bar-stoo...           No   \n",
       "4  https://www.ikea.com/sa/en/p/henriksdal-bar-st...           No   \n",
       "\n",
       "                                   short_description              designer  \\\n",
       "0           Bar table, in/outdoor,          51x51 cm  Nicholai Wiig Hansen   \n",
       "1            Bar stool with backrest,          74 cm         Henrik Preutz   \n",
       "2          Bar stool with backrest, in/outdoor,  ...  Nicholai Wiig Hansen   \n",
       "3            Bar stool with backrest,          75 cm      Ehl√©n Johansson   \n",
       "4          Bar stool with backrest frame,        ...         Karl Malmvall   \n",
       "\n",
       "   depth  height  width product_description     current_status bedroom  \n",
       "0    NaN    99.0   51.0   Item discontinued  Item discontinued     NaN  \n",
       "1   50.0   100.0   60.0   Item discontinued  Item discontinued     NaN  \n",
       "2   53.0   104.0   43.0   Item discontinued  Item discontinued     NaN  \n",
       "3   52.0   114.0   43.0   Item discontinued  Item discontinued     NaN  \n",
       "4   51.0   102.0   40.0   Item discontinued  Item discontinued     NaN  "
      ]
     },
     "execution_count": 8,
     "metadata": {},
     "output_type": "execute_result"
    }
   ],
   "source": [
    "ikea.drop(['kewords','topic_group','topic_desc'],axis=1,inplace=True)\n",
    "ikea.head()"
   ]
  },
  {
   "cell_type": "code",
   "execution_count": 18,
   "id": "43c3ced9-3bc4-4001-af67-b6ca5eb5891d",
   "metadata": {},
   "outputs": [
    {
     "name": "stderr",
     "output_type": "stream",
     "text": [
      "C:\\Users\\PC\\AppData\\Local\\Temp\\ipykernel_3464\\735967083.py:1: FutureWarning: A value is trying to be set on a copy of a DataFrame or Series through chained assignment using an inplace method.\n",
      "The behavior will change in pandas 3.0. This inplace method will never work because the intermediate object on which we are setting values always behaves as a copy.\n",
      "\n",
      "For example, when doing 'df[col].method(value, inplace=True)', try using 'df.method({col: value}, inplace=True)' or df[col] = df[col].method(value) instead, to perform the operation inplace on the original object.\n",
      "\n",
      "\n",
      "  ikea['depth'].fillna(ikea['depth'].mean(),inplace=True)\n"
     ]
    }
   ],
   "source": [
    "ikea['depth'].fillna(ikea['depth'].mean(),inplace=True)"
   ]
  },
  {
   "cell_type": "code",
   "execution_count": 20,
   "id": "0d117157-298b-4420-b420-26348822286b",
   "metadata": {},
   "outputs": [
    {
     "name": "stderr",
     "output_type": "stream",
     "text": [
      "C:\\Users\\PC\\AppData\\Local\\Temp\\ipykernel_3464\\2730948322.py:1: FutureWarning: A value is trying to be set on a copy of a DataFrame or Series through chained assignment using an inplace method.\n",
      "The behavior will change in pandas 3.0. This inplace method will never work because the intermediate object on which we are setting values always behaves as a copy.\n",
      "\n",
      "For example, when doing 'df[col].method(value, inplace=True)', try using 'df.method({col: value}, inplace=True)' or df[col] = df[col].method(value) instead, to perform the operation inplace on the original object.\n",
      "\n",
      "\n",
      "  ikea['height'].fillna(ikea['height'].mean(),inplace=True)\n"
     ]
    }
   ],
   "source": [
    "ikea['height'].fillna(ikea['height'].mean(),inplace=True)"
   ]
  },
  {
   "cell_type": "code",
   "execution_count": 22,
   "id": "8dd33251-b019-4b96-9428-cbaf4e8c5260",
   "metadata": {},
   "outputs": [
    {
     "name": "stderr",
     "output_type": "stream",
     "text": [
      "C:\\Users\\PC\\AppData\\Local\\Temp\\ipykernel_3464\\4176414776.py:1: FutureWarning: A value is trying to be set on a copy of a DataFrame or Series through chained assignment using an inplace method.\n",
      "The behavior will change in pandas 3.0. This inplace method will never work because the intermediate object on which we are setting values always behaves as a copy.\n",
      "\n",
      "For example, when doing 'df[col].method(value, inplace=True)', try using 'df.method({col: value}, inplace=True)' or df[col] = df[col].method(value) instead, to perform the operation inplace on the original object.\n",
      "\n",
      "\n",
      "  ikea['width'].fillna(ikea['width'].mean(),inplace=True)\n"
     ]
    }
   ],
   "source": [
    "ikea['width'].fillna(ikea['width'].mean(),inplace=True)"
   ]
  },
  {
   "cell_type": "code",
   "execution_count": 27,
   "id": "21a48b83-e525-4bef-a1a9-69c7d1761704",
   "metadata": {
    "scrolled": true
   },
   "outputs": [
    {
     "data": {
      "text/plain": [
       "np.int64(0)"
      ]
     },
     "execution_count": 27,
     "metadata": {},
     "output_type": "execute_result"
    }
   ],
   "source": [
    "ikea.duplicated().sum()"
   ]
  },
  {
   "cell_type": "code",
   "execution_count": 9,
   "id": "29380aeb-ab1c-49e6-9a50-4a5e816d7aba",
   "metadata": {
    "scrolled": true
   },
   "outputs": [
    {
     "data": {
      "text/html": [
       "<div>\n",
       "<style scoped>\n",
       "    .dataframe tbody tr th:only-of-type {\n",
       "        vertical-align: middle;\n",
       "    }\n",
       "\n",
       "    .dataframe tbody tr th {\n",
       "        vertical-align: top;\n",
       "    }\n",
       "\n",
       "    .dataframe thead th {\n",
       "        text-align: right;\n",
       "    }\n",
       "</style>\n",
       "<table border=\"1\" class=\"dataframe\">\n",
       "  <thead>\n",
       "    <tr style=\"text-align: right;\">\n",
       "      <th></th>\n",
       "      <th>item_id</th>\n",
       "      <th>name</th>\n",
       "      <th>category</th>\n",
       "      <th>price</th>\n",
       "      <th>old_price</th>\n",
       "      <th>sellable_online</th>\n",
       "      <th>link</th>\n",
       "      <th>other_colors</th>\n",
       "      <th>short_description</th>\n",
       "      <th>designer</th>\n",
       "      <th>depth</th>\n",
       "      <th>height</th>\n",
       "      <th>width</th>\n",
       "      <th>product_description</th>\n",
       "      <th>current_status</th>\n",
       "      <th>bedroom</th>\n",
       "    </tr>\n",
       "  </thead>\n",
       "  <tbody>\n",
       "    <tr>\n",
       "      <th>3688</th>\n",
       "      <td>29324320</td>\n",
       "      <td>PLATSA</td>\n",
       "      <td>Wardrobes</td>\n",
       "      <td>1606.0</td>\n",
       "      <td>SR 1,785</td>\n",
       "      <td>True</td>\n",
       "      <td>https://www.ikea.com/sa/en/p/platsa-wardrobe-w...</td>\n",
       "      <td>No</td>\n",
       "      <td>Wardrobe with 6 drawers,          140x...</td>\n",
       "      <td>IKEA of Sweden/Ola Wihlborg</td>\n",
       "      <td>42.0</td>\n",
       "      <td>241.0</td>\n",
       "      <td>140.0</td>\n",
       "      <td>PLATSA wardrobe with 6 drawers, white/Fonnes w...</td>\n",
       "      <td>Item still available for sale</td>\n",
       "      <td>bedroom</td>\n",
       "    </tr>\n",
       "    <tr>\n",
       "      <th>3689</th>\n",
       "      <td>19385677</td>\n",
       "      <td>PAX</td>\n",
       "      <td>Wardrobes</td>\n",
       "      <td>2505.0</td>\n",
       "      <td>No old price</td>\n",
       "      <td>True</td>\n",
       "      <td>https://www.ikea.com/sa/en/p/pax-wardrobe-comb...</td>\n",
       "      <td>Yes</td>\n",
       "      <td>Wardrobe combination,          150x58x...</td>\n",
       "      <td>Ehl√©n Johansson/Ola Wihlborg/IKEA of Sweden</td>\n",
       "      <td>58.0</td>\n",
       "      <td>236.0</td>\n",
       "      <td>150.0</td>\n",
       "      <td>Shop for fitted wardrobes online at IKEA Saudi...</td>\n",
       "      <td>Item still available for sale</td>\n",
       "      <td>bedroom</td>\n",
       "    </tr>\n",
       "    <tr>\n",
       "      <th>3690</th>\n",
       "      <td>39329299</td>\n",
       "      <td>PAX / FORSAND/VIKEDAL</td>\n",
       "      <td>Wardrobes</td>\n",
       "      <td>1260.0</td>\n",
       "      <td>No old price</td>\n",
       "      <td>True</td>\n",
       "      <td>https://www.ikea.com/sa/en/p/pax-forsand-viked...</td>\n",
       "      <td>Yes</td>\n",
       "      <td>Wardrobe combination,          75x60x2...</td>\n",
       "      <td>Ehl√©n Johansson/IKEA of Sweden</td>\n",
       "      <td>60.0</td>\n",
       "      <td>201.0</td>\n",
       "      <td>75.0</td>\n",
       "      <td>Shop for fitted wardrobes online at IKEA Saudi...</td>\n",
       "      <td>Item still available for sale</td>\n",
       "      <td>bedroom</td>\n",
       "    </tr>\n",
       "    <tr>\n",
       "      <th>3691</th>\n",
       "      <td>79302995</td>\n",
       "      <td>ELVARLI</td>\n",
       "      <td>Wardrobes</td>\n",
       "      <td>1611.0</td>\n",
       "      <td>SR 1,815</td>\n",
       "      <td>True</td>\n",
       "      <td>https://www.ikea.com/sa/en/p/elvarli-2-section...</td>\n",
       "      <td>No</td>\n",
       "      <td>2 sections,          175x51x222-350 cm</td>\n",
       "      <td>Ehl√©n Johansson</td>\n",
       "      <td>50.0</td>\n",
       "      <td>NaN</td>\n",
       "      <td>175.0</td>\n",
       "      <td>ELVARLI wardrobe combination, white, 175x51x22...</td>\n",
       "      <td>Item still available for sale</td>\n",
       "      <td>bedroom</td>\n",
       "    </tr>\n",
       "    <tr>\n",
       "      <th>3692</th>\n",
       "      <td>99157902</td>\n",
       "      <td>ELVARLI</td>\n",
       "      <td>Wardrobes</td>\n",
       "      <td>750.0</td>\n",
       "      <td>SR 820</td>\n",
       "      <td>True</td>\n",
       "      <td>https://www.ikea.com/sa/en/p/elvarli-1-section...</td>\n",
       "      <td>No</td>\n",
       "      <td>1 section,          92x51x222-350 cm</td>\n",
       "      <td>Ehl√©n Johansson</td>\n",
       "      <td>50.0</td>\n",
       "      <td>NaN</td>\n",
       "      <td>91.0</td>\n",
       "      <td>ELVARLI wardrobe combination, white, 92x51x222...</td>\n",
       "      <td>Item still available for sale</td>\n",
       "      <td>bedroom</td>\n",
       "    </tr>\n",
       "    <tr>\n",
       "      <th>3693</th>\n",
       "      <td>9158152</td>\n",
       "      <td>ELVARLI</td>\n",
       "      <td>Wardrobes</td>\n",
       "      <td>1572.0</td>\n",
       "      <td>SR 1,755</td>\n",
       "      <td>True</td>\n",
       "      <td>https://www.ikea.com/sa/en/p/elvarli-2-section...</td>\n",
       "      <td>No</td>\n",
       "      <td>2 sections,          135x51x222-350 cm</td>\n",
       "      <td>Ehl√©n Johansson</td>\n",
       "      <td>50.0</td>\n",
       "      <td>NaN</td>\n",
       "      <td>135.0</td>\n",
       "      <td>ELVARLI wardrobe combination, white, 135x51x22...</td>\n",
       "      <td>Item still available for sale</td>\n",
       "      <td>bedroom</td>\n",
       "    </tr>\n",
       "  </tbody>\n",
       "</table>\n",
       "</div>"
      ],
      "text/plain": [
       "       item_id                   name   category   price     old_price  \\\n",
       "3688  29324320                 PLATSA  Wardrobes  1606.0      SR 1,785   \n",
       "3689  19385677                    PAX  Wardrobes  2505.0  No old price   \n",
       "3690  39329299  PAX / FORSAND/VIKEDAL  Wardrobes  1260.0  No old price   \n",
       "3691  79302995                ELVARLI  Wardrobes  1611.0      SR 1,815   \n",
       "3692  99157902                ELVARLI  Wardrobes   750.0        SR 820   \n",
       "3693   9158152                ELVARLI  Wardrobes  1572.0      SR 1,755   \n",
       "\n",
       "      sellable_online                                               link  \\\n",
       "3688             True  https://www.ikea.com/sa/en/p/platsa-wardrobe-w...   \n",
       "3689             True  https://www.ikea.com/sa/en/p/pax-wardrobe-comb...   \n",
       "3690             True  https://www.ikea.com/sa/en/p/pax-forsand-viked...   \n",
       "3691             True  https://www.ikea.com/sa/en/p/elvarli-2-section...   \n",
       "3692             True  https://www.ikea.com/sa/en/p/elvarli-1-section...   \n",
       "3693             True  https://www.ikea.com/sa/en/p/elvarli-2-section...   \n",
       "\n",
       "     other_colors                                  short_description  \\\n",
       "3688           No          Wardrobe with 6 drawers,          140x...   \n",
       "3689          Yes          Wardrobe combination,          150x58x...   \n",
       "3690          Yes          Wardrobe combination,          75x60x2...   \n",
       "3691           No             2 sections,          175x51x222-350 cm   \n",
       "3692           No               1 section,          92x51x222-350 cm   \n",
       "3693           No             2 sections,          135x51x222-350 cm   \n",
       "\n",
       "                                          designer  depth  height  width  \\\n",
       "3688                   IKEA of Sweden/Ola Wihlborg   42.0   241.0  140.0   \n",
       "3689  Ehl√©n Johansson/Ola Wihlborg/IKEA of Sweden   58.0   236.0  150.0   \n",
       "3690               Ehl√©n Johansson/IKEA of Sweden   60.0   201.0   75.0   \n",
       "3691                              Ehl√©n Johansson   50.0     NaN  175.0   \n",
       "3692                              Ehl√©n Johansson   50.0     NaN   91.0   \n",
       "3693                              Ehl√©n Johansson   50.0     NaN  135.0   \n",
       "\n",
       "                                    product_description  \\\n",
       "3688  PLATSA wardrobe with 6 drawers, white/Fonnes w...   \n",
       "3689  Shop for fitted wardrobes online at IKEA Saudi...   \n",
       "3690  Shop for fitted wardrobes online at IKEA Saudi...   \n",
       "3691  ELVARLI wardrobe combination, white, 175x51x22...   \n",
       "3692  ELVARLI wardrobe combination, white, 92x51x222...   \n",
       "3693  ELVARLI wardrobe combination, white, 135x51x22...   \n",
       "\n",
       "                     current_status  bedroom  \n",
       "3688  Item still available for sale  bedroom  \n",
       "3689  Item still available for sale  bedroom  \n",
       "3690  Item still available for sale  bedroom  \n",
       "3691  Item still available for sale  bedroom  \n",
       "3692  Item still available for sale  bedroom  \n",
       "3693  Item still available for sale  bedroom  "
      ]
     },
     "execution_count": 9,
     "metadata": {},
     "output_type": "execute_result"
    }
   ],
   "source": [
    "ikea.tail(6)"
   ]
  },
  {
   "cell_type": "code",
   "execution_count": 15,
   "id": "25ba40d9-3a9f-40d7-9bc9-a8c38acdfac2",
   "metadata": {
    "scrolled": true
   },
   "outputs": [
    {
     "data": {
      "image/png": "[encoded data removed]",
      "text/plain": [
       "<Figure size 640x480 with 1 Axes>"
      ]
     },
     "metadata": {},
     "output_type": "display_data"
    }
   ],
   "source": [
    "sns.histplot(ikea['price'])\n",
    "plt.title('qiymetin hiqtoqramla ifadesi')\n",
    "plt.xlabel('mebleg')\n",
    "plt.ylabel('say')\n",
    "plt.show()"
   ]
  },
  {
   "cell_type": "code",
   "execution_count": 25,
   "id": "f7810752-bd5b-44ff-a5f5-f44844ded4b8",
   "metadata": {},
   "outputs": [
    {
     "data": {
      "text/plain": [
       "<Axes: xlabel='height', ylabel='Count'>"
      ]
     },
     "execution_count": 25,
     "metadata": {},
     "output_type": "execute_result"
    },
    {
     "data": {
      "image/png": "[encoded data removed]",
      "text/plain": [
       "<Figure size 640x480 with 1 Axes>"
      ]
     },
     "metadata": {},
     "output_type": "display_data"
    }
   ],
   "source": [
    "sns.histplot(ikea['height'])"
   ]
  },
  {
   "cell_type": "code",
   "execution_count": 19,
   "id": "46a29a8f-e428-44f6-9723-70439e9d69d4",
   "metadata": {},
   "outputs": [
    {
     "data": {
      "text/plain": [
       "0    Item discontinued\n",
       "Name: current_status, dtype: object"
      ]
     },
     "execution_count": 19,
     "metadata": {},
     "output_type": "execute_result"
    }
   ],
   "source": [
    "ikea['current_status'].mode()"
   ]
  },
  {
   "cell_type": "code",
   "execution_count": 18,
   "id": "f1a1b8e5-092f-41f1-ab1e-003eb4bea8f3",
   "metadata": {
    "scrolled": true
   },
   "outputs": [
    {
     "data": {
      "text/html": [
       "<div>\n",
       "<style scoped>\n",
       "    .dataframe tbody tr th:only-of-type {\n",
       "        vertical-align: middle;\n",
       "    }\n",
       "\n",
       "    .dataframe tbody tr th {\n",
       "        vertical-align: top;\n",
       "    }\n",
       "\n",
       "    .dataframe thead th {\n",
       "        text-align: right;\n",
       "    }\n",
       "</style>\n",
       "<table border=\"1\" class=\"dataframe\">\n",
       "  <thead>\n",
       "    <tr style=\"text-align: right;\">\n",
       "      <th></th>\n",
       "      <th>item_id</th>\n",
       "      <th>name</th>\n",
       "      <th>category</th>\n",
       "      <th>price</th>\n",
       "      <th>old_price</th>\n",
       "      <th>sellable_online</th>\n",
       "      <th>link</th>\n",
       "      <th>other_colors</th>\n",
       "      <th>short_description</th>\n",
       "      <th>designer</th>\n",
       "      <th>...</th>\n",
       "      <th>height</th>\n",
       "      <th>width</th>\n",
       "      <th>product_description</th>\n",
       "      <th>current_status</th>\n",
       "      <th>bedroom</th>\n",
       "      <th>sr</th>\n",
       "      <th>all old ones</th>\n",
       "      <th>kids</th>\n",
       "      <th>outdoor</th>\n",
       "      <th>kitchen</th>\n",
       "    </tr>\n",
       "  </thead>\n",
       "  <tbody>\n",
       "    <tr>\n",
       "      <th>22</th>\n",
       "      <td>69912770</td>\n",
       "      <td>TRYSIL</td>\n",
       "      <td>Beds</td>\n",
       "      <td>525.0</td>\n",
       "      <td>No old price</td>\n",
       "      <td>True</td>\n",
       "      <td>https://www.ikea.com/sa/en/p/trysil-bed-frame-...</td>\n",
       "      <td>Yes</td>\n",
       "      <td>Bed frame,          160x200 cm</td>\n",
       "      <td>K Hagberg/M Hagberg/IKEA of Sweden</td>\n",
       "      <td>...</td>\n",
       "      <td>NaN</td>\n",
       "      <td>165.0</td>\n",
       "      <td>Item discontinued</td>\n",
       "      <td>Item discontinued</td>\n",
       "      <td>bedroom</td>\n",
       "      <td>NaN</td>\n",
       "      <td>all old ones</td>\n",
       "      <td>NaN</td>\n",
       "      <td>NaN</td>\n",
       "      <td>NaN</td>\n",
       "    </tr>\n",
       "    <tr>\n",
       "      <th>23</th>\n",
       "      <td>39122072</td>\n",
       "      <td>LAUVIK</td>\n",
       "      <td>Beds</td>\n",
       "      <td>1729.0</td>\n",
       "      <td>SR 2,435</td>\n",
       "      <td>True</td>\n",
       "      <td>https://www.ikea.com/sa/en/p/lauvik-divan-bed-...</td>\n",
       "      <td>Yes</td>\n",
       "      <td>Divan bed,          140x200 cm</td>\n",
       "      <td>IKEA of Sweden/Synn√∂ve Mork/Ola Wihlborg</td>\n",
       "      <td>...</td>\n",
       "      <td>120.0</td>\n",
       "      <td>140.0</td>\n",
       "      <td>Item discontinued</td>\n",
       "      <td>Item discontinued</td>\n",
       "      <td>bedroom</td>\n",
       "      <td>NaN</td>\n",
       "      <td>NaN</td>\n",
       "      <td>NaN</td>\n",
       "      <td>NaN</td>\n",
       "      <td>NaN</td>\n",
       "    </tr>\n",
       "    <tr>\n",
       "      <th>25</th>\n",
       "      <td>89305446</td>\n",
       "      <td>PLATSA</td>\n",
       "      <td>Beds</td>\n",
       "      <td>2600.5</td>\n",
       "      <td>SR 2,880</td>\n",
       "      <td>True</td>\n",
       "      <td>https://www.ikea.com/sa/en/p/platsa-bed-frame-...</td>\n",
       "      <td>No</td>\n",
       "      <td>Bed frame with 10 doors,          143x...</td>\n",
       "      <td>IKEA of Sweden</td>\n",
       "      <td>...</td>\n",
       "      <td>43.0</td>\n",
       "      <td>143.0</td>\n",
       "      <td>Item discontinued</td>\n",
       "      <td>Item discontinued</td>\n",
       "      <td>bedroom</td>\n",
       "      <td>NaN</td>\n",
       "      <td>NaN</td>\n",
       "      <td>NaN</td>\n",
       "      <td>NaN</td>\n",
       "      <td>NaN</td>\n",
       "    </tr>\n",
       "    <tr>\n",
       "      <th>28</th>\n",
       "      <td>79247598</td>\n",
       "      <td>BJ√ñRKSN√ÑS</td>\n",
       "      <td>Beds</td>\n",
       "      <td>2040.0</td>\n",
       "      <td>No old price</td>\n",
       "      <td>True</td>\n",
       "      <td>https://www.ikea.com/sa/en/p/bjoerksnaes-bed-f...</td>\n",
       "      <td>Yes</td>\n",
       "      <td>Bed frame,          140x200 cm</td>\n",
       "      <td>K Hagberg/M Hagberg/IKEA of Sweden</td>\n",
       "      <td>...</td>\n",
       "      <td>42.0</td>\n",
       "      <td>160.0</td>\n",
       "      <td>Item discontinued</td>\n",
       "      <td>Item discontinued</td>\n",
       "      <td>bedroom</td>\n",
       "      <td>NaN</td>\n",
       "      <td>all old ones</td>\n",
       "      <td>NaN</td>\n",
       "      <td>NaN</td>\n",
       "      <td>NaN</td>\n",
       "    </tr>\n",
       "    <tr>\n",
       "      <th>30</th>\n",
       "      <td>29239459</td>\n",
       "      <td>S√ÑB√ñVIK</td>\n",
       "      <td>Beds</td>\n",
       "      <td>1745.0</td>\n",
       "      <td>No old price</td>\n",
       "      <td>True</td>\n",
       "      <td>https://www.ikea.com/sa/en/p/saeboevik-divan-b...</td>\n",
       "      <td>Yes</td>\n",
       "      <td>Divan bed,          140x200 cm</td>\n",
       "      <td>IKEA of Sweden</td>\n",
       "      <td>...</td>\n",
       "      <td>90.0</td>\n",
       "      <td>140.0</td>\n",
       "      <td>Item discontinued</td>\n",
       "      <td>Item discontinued</td>\n",
       "      <td>bedroom</td>\n",
       "      <td>NaN</td>\n",
       "      <td>all old ones</td>\n",
       "      <td>NaN</td>\n",
       "      <td>NaN</td>\n",
       "      <td>NaN</td>\n",
       "    </tr>\n",
       "  </tbody>\n",
       "</table>\n",
       "<p>5 rows × 21 columns</p>\n",
       "</div>"
      ],
      "text/plain": [
       "     item_id         name category   price     old_price  sellable_online  \\\n",
       "22  69912770       TRYSIL     Beds   525.0  No old price             True   \n",
       "23  39122072       LAUVIK     Beds  1729.0      SR 2,435             True   \n",
       "25  89305446       PLATSA     Beds  2600.5      SR 2,880             True   \n",
       "28  79247598  BJ√ñRKSN√ÑS     Beds  2040.0  No old price             True   \n",
       "30  29239459    S√ÑB√ñVIK     Beds  1745.0  No old price             True   \n",
       "\n",
       "                                                 link other_colors  \\\n",
       "22  https://www.ikea.com/sa/en/p/trysil-bed-frame-...          Yes   \n",
       "23  https://www.ikea.com/sa/en/p/lauvik-divan-bed-...          Yes   \n",
       "25  https://www.ikea.com/sa/en/p/platsa-bed-frame-...           No   \n",
       "28  https://www.ikea.com/sa/en/p/bjoerksnaes-bed-f...          Yes   \n",
       "30  https://www.ikea.com/sa/en/p/saeboevik-divan-b...          Yes   \n",
       "\n",
       "                                    short_description  \\\n",
       "22                     Bed frame,          160x200 cm   \n",
       "23                     Divan bed,          140x200 cm   \n",
       "25          Bed frame with 10 doors,          143x...   \n",
       "28                     Bed frame,          140x200 cm   \n",
       "30                     Divan bed,          140x200 cm   \n",
       "\n",
       "                                     designer  ...  height  width  \\\n",
       "22         K Hagberg/M Hagberg/IKEA of Sweden  ...     NaN  165.0   \n",
       "23  IKEA of Sweden/Synn√∂ve Mork/Ola Wihlborg  ...   120.0  140.0   \n",
       "25                             IKEA of Sweden  ...    43.0  143.0   \n",
       "28         K Hagberg/M Hagberg/IKEA of Sweden  ...    42.0  160.0   \n",
       "30                             IKEA of Sweden  ...    90.0  140.0   \n",
       "\n",
       "    product_description     current_status  bedroom   sr  all old ones kids  \\\n",
       "22    Item discontinued  Item discontinued  bedroom  NaN  all old ones  NaN   \n",
       "23    Item discontinued  Item discontinued  bedroom  NaN           NaN  NaN   \n",
       "25    Item discontinued  Item discontinued  bedroom  NaN           NaN  NaN   \n",
       "28    Item discontinued  Item discontinued  bedroom  NaN  all old ones  NaN   \n",
       "30    Item discontinued  Item discontinued  bedroom  NaN  all old ones  NaN   \n",
       "\n",
       "   outdoor kitchen  \n",
       "22     NaN     NaN  \n",
       "23     NaN     NaN  \n",
       "25     NaN     NaN  \n",
       "28     NaN     NaN  \n",
       "30     NaN     NaN  \n",
       "\n",
       "[5 rows x 21 columns]"
      ]
     },
     "execution_count": 18,
     "metadata": {},
     "output_type": "execute_result"
    }
   ],
   "source": [
    "ikea[ikea['width']>100].head()"
   ]
  },
  {
   "cell_type": "code",
   "execution_count": 21,
   "id": "cc3dac6c-28e1-46c0-beba-a82d69748f13",
   "metadata": {},
   "outputs": [
    {
     "data": {
      "text/plain": [
       "<Axes: ylabel='price'>"
      ]
     },
     "execution_count": 21,
     "metadata": {},
     "output_type": "execute_result"
    },
    {
     "data": {
      "image/png": "[encoded data removed]",
      "text/plain": [
       "<Figure size 640x480 with 1 Axes>"
      ]
     },
     "metadata": {},
     "output_type": "display_data"
    }
   ],
   "source": [
    "sns.boxplot(ikea['price'])"
   ]
  },
  {
   "cell_type": "code",
   "execution_count": 24,
   "id": "ca7eb2cb-023b-4736-952f-9b04daf89dd0",
   "metadata": {},
   "outputs": [
    {
     "data": {
      "text/plain": [
       "0       True\n",
       "1       True\n",
       "2       True\n",
       "3       True\n",
       "4       True\n",
       "        ... \n",
       "3689    True\n",
       "3690    True\n",
       "3691    True\n",
       "3692    True\n",
       "3693    True\n",
       "Name: price, Length: 3694, dtype: bool"
      ]
     },
     "execution_count": 24,
     "metadata": {},
     "output_type": "execute_result"
    }
   ],
   "source": [
    "q1=ikea['price'].quantile(0.25)\n",
    "q2=ikea['price'].quantile(0.75)\n",
    "iqr=q2-q1\n",
    "ikea['price']>=q1-1.5*iqr\n",
    "ikea['price']<=q2+1.5*iqr"
   ]
  },
  {
   "cell_type": "code",
   "execution_count": 3,
   "id": "ed363a42-299e-484b-b532-b4438153c1d0",
   "metadata": {},
   "outputs": [
    {
     "data": {
      "text/plain": [
       "<Axes: ylabel='price'>"
      ]
     },
     "execution_count": 3,
     "metadata": {},
     "output_type": "execute_result"
    },
    {
     "data": {
      "image/png": "[encoded data removed]",
      "text/plain": [
       "<Figure size 640x480 with 1 Axes>"
      ]
     },
     "metadata": {},
     "output_type": "display_data"
    }
   ],
   "source": [
    "sns.scatterplot(ikea['price'])"
   ]
  },
  {
   "cell_type": "code",
   "execution_count": 7,
   "id": "8825df6c-865e-47ec-a81d-5f14de073a44",
   "metadata": {},
   "outputs": [
    {
     "data": {
      "text/plain": [
       "<Axes: ylabel='Frequency'>"
      ]
     },
     "execution_count": 7,
     "metadata": {},
     "output_type": "execute_result"
    },
    {
     "data": {
      "image/png": "[encoded data removed]",
      "text/plain": [
       "<Figure size 640x480 with 1 Axes>"
      ]
     },
     "metadata": {},
     "output_type": "display_data"
    }
   ],
   "source": [
    "ikea.groupby(['height','price']).sum().plot(kind='hist')"
   ]
  },
  {
   "cell_type": "code",
   "execution_count": 5,
   "id": "f71441c0-2a17-413a-a7cd-50c09cb391c0",
   "metadata": {},
   "outputs": [
    {
     "data": {
      "text/plain": [
       "<function matplotlib.pyplot.show(close=None, block=None)>"
      ]
     },
     "execution_count": 5,
     "metadata": {},
     "output_type": "execute_result"
    },
    {
     "data": {
      "image/png": "[encoded data removed]",
      "text/plain": [
       "<Figure size 640x480 with 1 Axes>"
      ]
     },
     "metadata": {},
     "output_type": "display_data"
    }
   ],
   "source": [
    "plt.xlabel('saylari')\n",
    "plt.ylabel('çeşidler')\n",
    "sns.countplot(ikea['category'])\n",
    "plt.show"
   ]
  },
  {
   "cell_type": "code",
   "execution_count": 31,
   "id": "bc8b60c8-9ccf-4d00-a339-a7123bf3a3b7",
   "metadata": {},
   "outputs": [
    {
     "data": {
      "text/plain": [
       "<function matplotlib.pyplot.show(close=None, block=None)>"
      ]
     },
     "execution_count": 31,
     "metadata": {},
     "output_type": "execute_result"
    },
    {
     "data": {
      "image/png": "[encoded data removed]",
      "text/plain": [
       "<Figure size 640x480 with 1 Axes>"
      ]
     },
     "metadata": {},
     "output_type": "display_data"
    }
   ],
   "source": [
    "sns.countplot(ikea['current_status'])\n",
    "plt.title('mebellerin hazirki veziyyeti')\n",
    "plt.ylabel('davam edib etmemesi')\n",
    "plt.xlabel('say')\n",
    "plt.show"
   ]
  },
  {
   "cell_type": "code",
   "execution_count": 20,
   "id": "6e2ff68f-bee8-422f-8030-fe5787eeacef",
   "metadata": {},
   "outputs": [
    {
     "data": {
      "text/plain": [
       "<Axes: ylabel='Frequency'>"
      ]
     },
     "execution_count": 20,
     "metadata": {},
     "output_type": "execute_result"
    },
    {
     "data": {
      "image/png": "[encoded data removed]",
      "text/plain": [
       "<Figure size 640x480 with 1 Axes>"
      ]
     },
     "metadata": {},
     "output_type": "display_data"
    }
   ],
   "source": [
    "ikea.groupby(['category','price']).sum().plot(kind='hist')"
   ]
  },
  {
   "cell_type": "code",
   "execution_count": 42,
   "id": "9ac6ff74-cd5b-4eaa-9060-a8b0d0e2175a",
   "metadata": {},
   "outputs": [
    {
     "data": {
      "text/html": [
       "<div>\n",
       "<style scoped>\n",
       "    .dataframe tbody tr th:only-of-type {\n",
       "        vertical-align: middle;\n",
       "    }\n",
       "\n",
       "    .dataframe tbody tr th {\n",
       "        vertical-align: top;\n",
       "    }\n",
       "\n",
       "    .dataframe thead th {\n",
       "        text-align: right;\n",
       "    }\n",
       "</style>\n",
       "<table border=\"1\" class=\"dataframe\">\n",
       "  <thead>\n",
       "    <tr style=\"text-align: right;\">\n",
       "      <th></th>\n",
       "      <th>item_id</th>\n",
       "      <th>name</th>\n",
       "      <th>category</th>\n",
       "      <th>price</th>\n",
       "      <th>old_price</th>\n",
       "      <th>sellable_online</th>\n",
       "      <th>link</th>\n",
       "      <th>other_colors</th>\n",
       "      <th>short_description</th>\n",
       "      <th>designer</th>\n",
       "      <th>depth</th>\n",
       "      <th>height</th>\n",
       "      <th>width</th>\n",
       "      <th>product_description</th>\n",
       "      <th>current_status</th>\n",
       "      <th>kewords</th>\n",
       "      <th>topic_group</th>\n",
       "      <th>topic_desc</th>\n",
       "    </tr>\n",
       "  </thead>\n",
       "  <tbody>\n",
       "    <tr>\n",
       "      <th>3318</th>\n",
       "      <td>49269153</td>\n",
       "      <td>LANDSKRONA</td>\n",
       "      <td>Sofas &amp; armchairs</td>\n",
       "      <td>8495.0</td>\n",
       "      <td>No old price</td>\n",
       "      <td>True</td>\n",
       "      <td>https://www.ikea.com/sa/en/p/landskrona-5-seat...</td>\n",
       "      <td>Yes</td>\n",
       "      <td>5-seat sofa</td>\n",
       "      <td>IKEA of Sweden/Tord Bj√∂rklund</td>\n",
       "      <td>NaN</td>\n",
       "      <td>78.0</td>\n",
       "      <td>360.0</td>\n",
       "      <td>LANDSKRONA 5-seat sofa, with chaise longues/Gr...</td>\n",
       "      <td>Item still available for sale</td>\n",
       "      <td>5-seat longues/Grann/Bomstad golden-brown/meta...</td>\n",
       "      <td>0.0</td>\n",
       "      <td>Color and Aesthetics, Usability</td>\n",
       "    </tr>\n",
       "    <tr>\n",
       "      <th>38</th>\n",
       "      <td>89186778</td>\n",
       "      <td>KONGSFJORD</td>\n",
       "      <td>Beds</td>\n",
       "      <td>8551.0</td>\n",
       "      <td>SR 8,735</td>\n",
       "      <td>True</td>\n",
       "      <td>https://www.ikea.com/sa/en/p/kongsfjord-divan-...</td>\n",
       "      <td>Yes</td>\n",
       "      <td>Divan bed,          180x200 cm</td>\n",
       "      <td>Ola Wihlborg/IKEA of Sweden/Synn√∂ve Mork</td>\n",
       "      <td>NaN</td>\n",
       "      <td>135.0</td>\n",
       "      <td>180.0</td>\n",
       "      <td>Item discontinued</td>\n",
       "      <td>Item discontinued</td>\n",
       "      <td>NaN</td>\n",
       "      <td>NaN</td>\n",
       "      <td>NaN</td>\n",
       "    </tr>\n",
       "    <tr>\n",
       "      <th>1520</th>\n",
       "      <td>89256610</td>\n",
       "      <td>GR√ñNLID</td>\n",
       "      <td>Sofas &amp; armchairs</td>\n",
       "      <td>8900.0</td>\n",
       "      <td>No old price</td>\n",
       "      <td>True</td>\n",
       "      <td>https://www.ikea.com/sa/en/p/groenlid-u-shaped...</td>\n",
       "      <td>No</td>\n",
       "      <td>U-shaped sofa, 6 seat</td>\n",
       "      <td>Francis Cayouette</td>\n",
       "      <td>252.0</td>\n",
       "      <td>104.0</td>\n",
       "      <td>327.0</td>\n",
       "      <td>Item discontinued</td>\n",
       "      <td>Item discontinued</td>\n",
       "      <td>NaN</td>\n",
       "      <td>NaN</td>\n",
       "      <td>NaN</td>\n",
       "    </tr>\n",
       "    <tr>\n",
       "      <th>1320</th>\n",
       "      <td>79277632</td>\n",
       "      <td>LIDHULT</td>\n",
       "      <td>Sofas &amp; armchairs</td>\n",
       "      <td>9585.0</td>\n",
       "      <td>No old price</td>\n",
       "      <td>True</td>\n",
       "      <td>https://www.ikea.com/sa/en/p/lidhult-corner-so...</td>\n",
       "      <td>Yes</td>\n",
       "      <td>Corner sofa-bed, 6-seat</td>\n",
       "      <td>Henrik Preutz/IKEA of Sweden</td>\n",
       "      <td>164.0</td>\n",
       "      <td>102.0</td>\n",
       "      <td>387.0</td>\n",
       "      <td>Item discontinued</td>\n",
       "      <td>Item discontinued</td>\n",
       "      <td>NaN</td>\n",
       "      <td>NaN</td>\n",
       "      <td>NaN</td>\n",
       "    </tr>\n",
       "    <tr>\n",
       "      <th>81</th>\n",
       "      <td>29277639</td>\n",
       "      <td>LIDHULT</td>\n",
       "      <td>Beds</td>\n",
       "      <td>9585.0</td>\n",
       "      <td>No old price</td>\n",
       "      <td>True</td>\n",
       "      <td>https://www.ikea.com/sa/en/p/lidhult-corner-so...</td>\n",
       "      <td>Yes</td>\n",
       "      <td>Corner sofa-bed, 6-seat</td>\n",
       "      <td>Henrik Preutz/IKEA of Sweden</td>\n",
       "      <td>164.0</td>\n",
       "      <td>102.0</td>\n",
       "      <td>387.0</td>\n",
       "      <td>Item discontinued</td>\n",
       "      <td>Item discontinued</td>\n",
       "      <td>NaN</td>\n",
       "      <td>NaN</td>\n",
       "      <td>NaN</td>\n",
       "    </tr>\n",
       "  </tbody>\n",
       "</table>\n",
       "</div>"
      ],
      "text/plain": [
       "       item_id        name           category   price     old_price  \\\n",
       "3318  49269153  LANDSKRONA  Sofas & armchairs  8495.0  No old price   \n",
       "38    89186778  KONGSFJORD               Beds  8551.0      SR 8,735   \n",
       "1520  89256610    GR√ñNLID  Sofas & armchairs  8900.0  No old price   \n",
       "1320  79277632     LIDHULT  Sofas & armchairs  9585.0  No old price   \n",
       "81    29277639     LIDHULT               Beds  9585.0  No old price   \n",
       "\n",
       "      sellable_online                                               link  \\\n",
       "3318             True  https://www.ikea.com/sa/en/p/landskrona-5-seat...   \n",
       "38               True  https://www.ikea.com/sa/en/p/kongsfjord-divan-...   \n",
       "1520             True  https://www.ikea.com/sa/en/p/groenlid-u-shaped...   \n",
       "1320             True  https://www.ikea.com/sa/en/p/lidhult-corner-so...   \n",
       "81               True  https://www.ikea.com/sa/en/p/lidhult-corner-so...   \n",
       "\n",
       "     other_colors                       short_description  \\\n",
       "3318          Yes                             5-seat sofa   \n",
       "38            Yes          Divan bed,          180x200 cm   \n",
       "1520           No                   U-shaped sofa, 6 seat   \n",
       "1320          Yes                 Corner sofa-bed, 6-seat   \n",
       "81            Yes                 Corner sofa-bed, 6-seat   \n",
       "\n",
       "                                       designer  depth  height  width  \\\n",
       "3318             IKEA of Sweden/Tord Bj√∂rklund    NaN    78.0  360.0   \n",
       "38    Ola Wihlborg/IKEA of Sweden/Synn√∂ve Mork    NaN   135.0  180.0   \n",
       "1520                          Francis Cayouette  252.0   104.0  327.0   \n",
       "1320               Henrik Preutz/IKEA of Sweden  164.0   102.0  387.0   \n",
       "81                 Henrik Preutz/IKEA of Sweden  164.0   102.0  387.0   \n",
       "\n",
       "                                    product_description  \\\n",
       "3318  LANDSKRONA 5-seat sofa, with chaise longues/Gr...   \n",
       "38                                    Item discontinued   \n",
       "1520                                  Item discontinued   \n",
       "1320                                  Item discontinued   \n",
       "81                                    Item discontinued   \n",
       "\n",
       "                     current_status  \\\n",
       "3318  Item still available for sale   \n",
       "38                Item discontinued   \n",
       "1520              Item discontinued   \n",
       "1320              Item discontinued   \n",
       "81                Item discontinued   \n",
       "\n",
       "                                                kewords  topic_group  \\\n",
       "3318  5-seat longues/Grann/Bomstad golden-brown/meta...          0.0   \n",
       "38                                                  NaN          NaN   \n",
       "1520                                                NaN          NaN   \n",
       "1320                                                NaN          NaN   \n",
       "81                                                  NaN          NaN   \n",
       "\n",
       "                           topic_desc  \n",
       "3318  Color and Aesthetics, Usability  \n",
       "38                                NaN  \n",
       "1520                              NaN  \n",
       "1320                              NaN  \n",
       "81                                NaN  "
      ]
     },
     "execution_count": 42,
     "metadata": {},
     "output_type": "execute_result"
    }
   ],
   "source": [
    "ikea.sort_values(by='price',ascending=True).tail()"
   ]
  },
  {
   "cell_type": "code",
   "execution_count": 43,
   "id": "b6a98777-e1ca-411e-a73b-c93c38786734",
   "metadata": {},
   "outputs": [
    {
     "data": {
      "image/png": "[encoded data removed]",
      "text/plain": [
       "<Figure size 640x480 with 1 Axes>"
      ]
     },
     "metadata": {},
     "output_type": "display_data"
    }
   ],
   "source": [
    "#ikea magazasindaki mebellerin olculeri \n",
    "plt.bar(ikea['height'],ikea['width'])\n",
    "plt.xlabel('mebelin hundurluyu')\n",
    "plt.ylabel('mebelin eni')\n",
    "plt.title('Mebellərin ölçüləri: Hündürlük və En')\n",
    "plt.show()"
   ]
  },
  {
   "cell_type": "code",
   "execution_count": 45,
   "id": "f3ca7273-c2c4-4769-b89e-4d90f958e52d",
   "metadata": {},
   "outputs": [
    {
     "data": {
      "text/plain": [
       "0    Tables & desks\n",
       "Name: category, dtype: object"
      ]
     },
     "execution_count": 45,
     "metadata": {},
     "output_type": "execute_result"
    }
   ],
   "source": [
    "ikea['category'].mode()\n"
   ]
  },
  {
   "cell_type": "code",
   "execution_count": 64,
   "id": "082f1e12-a8a9-4707-aa3d-92696ad49cc2",
   "metadata": {},
   "outputs": [
    {
     "data": {
      "text/plain": [
       "min       3.0\n",
       "max    9585.0\n",
       "Name: price, dtype: float64"
      ]
     },
     "execution_count": 64,
     "metadata": {},
     "output_type": "execute_result"
    }
   ],
   "source": [
    "ikea['price'].agg(['min', 'max'])"
   ]
  },
  {
   "cell_type": "code",
   "execution_count": 65,
   "id": "8ebe7093-35ac-4748-9e05-33d3a96176f0",
   "metadata": {},
   "outputs": [
    {
     "data": {
      "image/png": "[encoded data removed]",
      "text/plain": [
       "<Figure size 640x480 with 1 Axes>"
      ]
     },
     "metadata": {},
     "output_type": "display_data"
    }
   ],
   "source": [
    "plt.hist(ikea['price'], bins=30, color='green')\n",
    "plt.xlabel('Qiymət')\n",
    "plt.ylabel('Say')\n",
    "plt.title('Qiymətlərin paylanması')\n",
    "plt.show()"
   ]
  },
  {
   "cell_type": "code",
   "execution_count": 33,
   "id": "9cb2c68f-ad13-461f-95ab-0b4aba0eeed3",
   "metadata": {},
   "outputs": [
    {
     "data": {
      "text/plain": [
       "count    2706.000000\n",
       "mean      101.679970\n",
       "std        61.097585\n",
       "min         1.000000\n",
       "25%        67.000000\n",
       "50%        83.000000\n",
       "75%       124.000000\n",
       "max       700.000000\n",
       "Name: height, dtype: float64"
      ]
     },
     "execution_count": 33,
     "metadata": {},
     "output_type": "execute_result"
    }
   ],
   "source": [
    "ikea['height'].describe()"
   ]
  },
  {
   "cell_type": "code",
   "execution_count": 34,
   "id": "d29ec38a-8611-465f-8493-ee2a75ab09d1",
   "metadata": {},
   "outputs": [
    {
     "data": {
      "text/plain": [
       "count    3105.000000\n",
       "mean      104.470853\n",
       "std        71.133771\n",
       "min         1.000000\n",
       "25%        60.000000\n",
       "50%        80.000000\n",
       "75%       140.000000\n",
       "max       420.000000\n",
       "Name: width, dtype: float64"
      ]
     },
     "execution_count": 34,
     "metadata": {},
     "output_type": "execute_result"
    }
   ],
   "source": [
    "ikea['width'].describe()"
   ]
  },
  {
   "cell_type": "code",
   "execution_count": 35,
   "id": "d14dca98-ab68-4ad3-a0b4-3a7a1f9b79eb",
   "metadata": {},
   "outputs": [
    {
     "data": {
      "text/plain": [
       "count    3694.000000\n",
       "mean     1078.208419\n",
       "std      1374.652494\n",
       "min         3.000000\n",
       "25%       180.900000\n",
       "50%       544.700000\n",
       "75%      1429.500000\n",
       "max      9585.000000\n",
       "Name: price, dtype: float64"
      ]
     },
     "execution_count": 35,
     "metadata": {},
     "output_type": "execute_result"
    }
   ],
   "source": [
    "ikea['price'].describe()"
   ]
  },
  {
   "cell_type": "code",
   "execution_count": 36,
   "id": "f39c533b-5d6a-4897-a8a1-80d89c0b54d1",
   "metadata": {},
   "outputs": [
    {
     "data": {
      "text/plain": [
       "count    2231.000000\n",
       "mean       54.379202\n",
       "std        29.958351\n",
       "min         1.000000\n",
       "25%        38.000000\n",
       "50%        47.000000\n",
       "75%        60.000000\n",
       "max       257.000000\n",
       "Name: depth, dtype: float64"
      ]
     },
     "execution_count": 36,
     "metadata": {},
     "output_type": "execute_result"
    }
   ],
   "source": [
    "ikea['depth'].describe()"
   ]
  },
  {
   "cell_type": "code",
   "execution_count": 13,
   "id": "5f54bbb3-5021-4215-86f5-c94e1faee8bf",
   "metadata": {},
   "outputs": [
    {
     "data": {
      "text/html": [
       "<div>\n",
       "<style scoped>\n",
       "    .dataframe tbody tr th:only-of-type {\n",
       "        vertical-align: middle;\n",
       "    }\n",
       "\n",
       "    .dataframe tbody tr th {\n",
       "        vertical-align: top;\n",
       "    }\n",
       "\n",
       "    .dataframe thead th {\n",
       "        text-align: right;\n",
       "    }\n",
       "</style>\n",
       "<table border=\"1\" class=\"dataframe\">\n",
       "  <thead>\n",
       "    <tr style=\"text-align: right;\">\n",
       "      <th></th>\n",
       "      <th>width</th>\n",
       "      <th>price</th>\n",
       "      <th>height</th>\n",
       "      <th>depth</th>\n",
       "    </tr>\n",
       "  </thead>\n",
       "  <tbody>\n",
       "    <tr>\n",
       "      <th>width</th>\n",
       "      <td>1.000000</td>\n",
       "      <td>0.697276</td>\n",
       "      <td>0.379496</td>\n",
       "      <td>0.433480</td>\n",
       "    </tr>\n",
       "    <tr>\n",
       "      <th>price</th>\n",
       "      <td>0.697276</td>\n",
       "      <td>1.000000</td>\n",
       "      <td>0.278621</td>\n",
       "      <td>0.630212</td>\n",
       "    </tr>\n",
       "    <tr>\n",
       "      <th>height</th>\n",
       "      <td>0.379496</td>\n",
       "      <td>0.278621</td>\n",
       "      <td>1.000000</td>\n",
       "      <td>-0.078930</td>\n",
       "    </tr>\n",
       "    <tr>\n",
       "      <th>depth</th>\n",
       "      <td>0.433480</td>\n",
       "      <td>0.630212</td>\n",
       "      <td>-0.078930</td>\n",
       "      <td>1.000000</td>\n",
       "    </tr>\n",
       "  </tbody>\n",
       "</table>\n",
       "</div>"
      ],
      "text/plain": [
       "           width     price    height     depth\n",
       "width   1.000000  0.697276  0.379496  0.433480\n",
       "price   0.697276  1.000000  0.278621  0.630212\n",
       "height  0.379496  0.278621  1.000000 -0.078930\n",
       "depth   0.433480  0.630212 -0.078930  1.000000"
      ]
     },
     "execution_count": 13,
     "metadata": {},
     "output_type": "execute_result"
    }
   ],
   "source": [
    "ikea[['width','price','height','depth']].corr()"
   ]
  },
  {
   "cell_type": "code",
   "execution_count": 29,
   "id": "7cf5a765-c18c-4f87-920d-c5a6237dff6b",
   "metadata": {},
   "outputs": [
    {
     "data": {
      "text/plain": [
       "'Mebelin ölçüləri qiymətə təsir edir mi? '"
      ]
     },
     "execution_count": 29,
     "metadata": {},
     "output_type": "execute_result"
    }
   ],
   "source": [
    "'''Mebelin ölçüləri qiymətə təsir edir mi? '''"
   ]
  },
  {
   "cell_type": "code",
   "execution_count": 38,
   "id": "4d950562-cba6-4317-8cc5-edc963c9fa51",
   "metadata": {},
   "outputs": [
    {
     "data": {
      "image/png": "[encoded data removed]",
      "text/plain": [
       "<Figure size 640x480 with 2 Axes>"
      ]
     },
     "metadata": {},
     "output_type": "display_data"
    }
   ],
   "source": [
    "sns.heatmap(ikea[['width','price','height','depth']].corr(),annot=True,cmap='coolwarm')\n",
    "plt.title(\"Mebel ölçüləri və qiymət arasındakı elaqe\",fontstyle='oblique')\n",
    "plt.show()"
   ]
  },
  {
   "cell_type": "markdown",
   "id": "05922df2-3783-43a8-85e9-9fb1ae750650",
   "metadata": {},
   "source": [
    "123 salam"
   ]
  },
  {
   "cell_type": "code",
   "execution_count": null,
   "id": "1e55a7a1-0f79-4d64-bf84-f915de20f2d3",
   "metadata": {},
   "outputs": [],
   "source": []
  }
 ],
 "metadata": {
  "kernelspec": {
   "display_name": "Python [conda env:base] *",
   "language": "python",
   "name": "conda-base-py"
  },
  "language_info": {
   "codemirror_mode": {
    "name": "ipython",
    "version": 3
   },
   "file_extension": ".py",
   "mimetype": "text/x-python",
   "name": "python",
   "nbconvert_exporter": "python",
   "pygments_lexer": "ipython3",
   "version": "3.13.5"
  }
 },
 "nbformat": 4,
 "nbformat_minor": 5
}
