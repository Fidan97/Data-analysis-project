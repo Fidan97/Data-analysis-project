{
 "cells": [
  {
   "cell_type": "markdown",
   "id": "01b49c6e-7d1a-4cad-819a-34374bc4d51a",
   "metadata": {},
   "source": [
    "The transaction dataset contains information about individual financial transactions, including amounts, dates, and associated attributes. It can be used to analyze trends, seasonality, and patterns in transaction behavior over time. This data is suitable for time series forecasting, such as predicting future transaction amounts using ARIMA or other models. It also helps identify periods of high or low financial activity."
   ]
  },
  {
   "cell_type": "code",
   "execution_count": 1,
   "id": "ad786c3e-d8af-4e15-8740-d3969e5a9ffb",
   "metadata": {},
   "outputs": [],
   "source": [
    "import pandas as pd\n",
    "import seaborn as sns\n",
    "import matplotlib.pyplot as plt"
   ]
  },
  {
   "cell_type": "code",
   "execution_count": 2,
   "id": "d41eb009-5e1b-470a-ba7d-cb7db8d4c8df",
   "metadata": {},
   "outputs": [
    {
     "data": {
      "text/html": [
       "<div>\n",
       "<style scoped>\n",
       "    .dataframe tbody tr th:only-of-type {\n",
       "        vertical-align: middle;\n",
       "    }\n",
       "\n",
       "    .dataframe tbody tr th {\n",
       "        vertical-align: top;\n",
       "    }\n",
       "\n",
       "    .dataframe thead th {\n",
       "        text-align: right;\n",
       "    }\n",
       "</style>\n",
       "<table border=\"1\" class=\"dataframe\">\n",
       "  <thead>\n",
       "    <tr style=\"text-align: right;\">\n",
       "      <th></th>\n",
       "      <th>transaction_id</th>\n",
       "      <th>customer_name</th>\n",
       "      <th>customer_fin</th>\n",
       "      <th>card_number</th>\n",
       "      <th>card_type</th>\n",
       "      <th>iban</th>\n",
       "      <th>transaction_amount</th>\n",
       "      <th>currency</th>\n",
       "      <th>conversion_rate</th>\n",
       "      <th>transaction_date</th>\n",
       "      <th>transaction_time</th>\n",
       "      <th>transaction_type</th>\n",
       "      <th>merchant_category</th>\n",
       "      <th>transaction_status</th>\n",
       "      <th>channel</th>\n",
       "      <th>city</th>\n",
       "      <th>is_international</th>\n",
       "    </tr>\n",
       "  </thead>\n",
       "  <tbody>\n",
       "    <tr>\n",
       "      <th>0</th>\n",
       "      <td>31befdf4-f5a1-4687-8cda-1a979a9aa46f</td>\n",
       "      <td>Sevinc Paşayev</td>\n",
       "      <td>QA227680</td>\n",
       "      <td>5.760652e+15</td>\n",
       "      <td>Maestro</td>\n",
       "      <td>AZ40957248611757453914781165</td>\n",
       "      <td>73.60</td>\n",
       "      <td>USD</td>\n",
       "      <td>1.7</td>\n",
       "      <td>2024-03-15</td>\n",
       "      <td>0:00:00</td>\n",
       "      <td>Payment</td>\n",
       "      <td>ATM Withdrawal</td>\n",
       "      <td>Cancelled</td>\n",
       "      <td>Phone Banking</td>\n",
       "      <td>Lənkəran</td>\n",
       "      <td>True</td>\n",
       "    </tr>\n",
       "    <tr>\n",
       "      <th>1</th>\n",
       "      <td>ad67aafa-f023-40dc-b659-ab87439d31f8</td>\n",
       "      <td>Leyla Musayev</td>\n",
       "      <td>QA227680</td>\n",
       "      <td>5.107798e+15</td>\n",
       "      <td>UnionPay</td>\n",
       "      <td>AZ95413982250789516915699767</td>\n",
       "      <td>1166.55</td>\n",
       "      <td>USD</td>\n",
       "      <td>1.7</td>\n",
       "      <td>2024-03-22</td>\n",
       "      <td>0:00:00</td>\n",
       "      <td>Payment</td>\n",
       "      <td>Healthcare</td>\n",
       "      <td>Failed</td>\n",
       "      <td>Mobile App</td>\n",
       "      <td>Qəbələ</td>\n",
       "      <td>False</td>\n",
       "    </tr>\n",
       "    <tr>\n",
       "      <th>2</th>\n",
       "      <td>87595355-54c6-488b-87fe-2f49f589a020</td>\n",
       "      <td>Şəhriyar Nəbiyev</td>\n",
       "      <td>QA227680</td>\n",
       "      <td>4.062980e+15</td>\n",
       "      <td>MasterCard</td>\n",
       "      <td>AZ06348066078115114808806500</td>\n",
       "      <td>13.74</td>\n",
       "      <td>AZN</td>\n",
       "      <td>1.0</td>\n",
       "      <td>2024-03-04</td>\n",
       "      <td>0:00:00</td>\n",
       "      <td>Withdrawal</td>\n",
       "      <td>Restaurant</td>\n",
       "      <td>Cancelled</td>\n",
       "      <td>Mobile App</td>\n",
       "      <td>Şuşa</td>\n",
       "      <td>True</td>\n",
       "    </tr>\n",
       "    <tr>\n",
       "      <th>3</th>\n",
       "      <td>d183f1bf-eab1-43fc-bf8b-232c88636c7c</td>\n",
       "      <td>Sənan Abdullayev</td>\n",
       "      <td>QA227680</td>\n",
       "      <td>5.267764e+15</td>\n",
       "      <td>UnionPay</td>\n",
       "      <td>AZ19015621825645592723623704</td>\n",
       "      <td>12.67</td>\n",
       "      <td>USD</td>\n",
       "      <td>1.7</td>\n",
       "      <td>2024-03-28</td>\n",
       "      <td>0:00:00</td>\n",
       "      <td>Refund</td>\n",
       "      <td>Fuel Station</td>\n",
       "      <td>Completed</td>\n",
       "      <td>Phone Banking</td>\n",
       "      <td>Şirvan</td>\n",
       "      <td>False</td>\n",
       "    </tr>\n",
       "    <tr>\n",
       "      <th>4</th>\n",
       "      <td>314b3cf2-c119-48a8-ad4b-700ae3416c54</td>\n",
       "      <td>Nigar Vəliyev</td>\n",
       "      <td>QA227680</td>\n",
       "      <td>6.769608e+15</td>\n",
       "      <td>Maestro</td>\n",
       "      <td>AZ26249804207627540089585113</td>\n",
       "      <td>1782.69</td>\n",
       "      <td>USD</td>\n",
       "      <td>1.7</td>\n",
       "      <td>2024-03-05</td>\n",
       "      <td>0:00:00</td>\n",
       "      <td>Purchase</td>\n",
       "      <td>Clothing</td>\n",
       "      <td>Pending</td>\n",
       "      <td>POS</td>\n",
       "      <td>Mingəçevir</td>\n",
       "      <td>False</td>\n",
       "    </tr>\n",
       "  </tbody>\n",
       "</table>\n",
       "</div>"
      ],
      "text/plain": [
       "                         transaction_id     customer_name customer_fin  \\\n",
       "0  31befdf4-f5a1-4687-8cda-1a979a9aa46f    Sevinc Paşayev     QA227680   \n",
       "1  ad67aafa-f023-40dc-b659-ab87439d31f8     Leyla Musayev     QA227680   \n",
       "2  87595355-54c6-488b-87fe-2f49f589a020  Şəhriyar Nəbiyev     QA227680   \n",
       "3  d183f1bf-eab1-43fc-bf8b-232c88636c7c  Sənan Abdullayev     QA227680   \n",
       "4  314b3cf2-c119-48a8-ad4b-700ae3416c54     Nigar Vəliyev     QA227680   \n",
       "\n",
       "    card_number   card_type                          iban  transaction_amount  \\\n",
       "0  5.760652e+15     Maestro  AZ40957248611757453914781165               73.60   \n",
       "1  5.107798e+15    UnionPay  AZ95413982250789516915699767             1166.55   \n",
       "2  4.062980e+15  MasterCard  AZ06348066078115114808806500               13.74   \n",
       "3  5.267764e+15    UnionPay  AZ19015621825645592723623704               12.67   \n",
       "4  6.769608e+15     Maestro  AZ26249804207627540089585113             1782.69   \n",
       "\n",
       "  currency  conversion_rate transaction_date transaction_time  \\\n",
       "0      USD              1.7       2024-03-15          0:00:00   \n",
       "1      USD              1.7       2024-03-22          0:00:00   \n",
       "2      AZN              1.0       2024-03-04          0:00:00   \n",
       "3      USD              1.7       2024-03-28          0:00:00   \n",
       "4      USD              1.7       2024-03-05          0:00:00   \n",
       "\n",
       "  transaction_type merchant_category transaction_status        channel  \\\n",
       "0          Payment    ATM Withdrawal          Cancelled  Phone Banking   \n",
       "1          Payment        Healthcare             Failed     Mobile App   \n",
       "2       Withdrawal        Restaurant          Cancelled     Mobile App   \n",
       "3           Refund      Fuel Station          Completed  Phone Banking   \n",
       "4         Purchase          Clothing            Pending            POS   \n",
       "\n",
       "         city  is_international  \n",
       "0    Lənkəran              True  \n",
       "1      Qəbələ             False  \n",
       "2        Şuşa              True  \n",
       "3      Şirvan             False  \n",
       "4  Mingəçevir             False  "
      ]
     },
     "execution_count": 2,
     "metadata": {},
     "output_type": "execute_result"
    }
   ],
   "source": [
    "name=pd.read_csv('transaction_dataset - transaction_dataset.csv')\n",
    "name.head()"
   ]
  },
  {
   "cell_type": "code",
   "execution_count": 3,
   "id": "a77c19b9-00d5-4001-aa2f-339edab9a0b4",
   "metadata": {},
   "outputs": [
    {
     "data": {
      "text/plain": [
       "(10000, 17)"
      ]
     },
     "execution_count": 3,
     "metadata": {},
     "output_type": "execute_result"
    }
   ],
   "source": [
    "name.shape"
   ]
  },
  {
   "cell_type": "code",
   "execution_count": 4,
   "id": "f382efec-c984-4c47-a933-07f1127d5636",
   "metadata": {},
   "outputs": [
    {
     "data": {
      "text/plain": [
       "Index(['transaction_id', 'customer_name', 'customer_fin', 'card_number',\n",
       "       'card_type', 'iban', 'transaction_amount', 'currency',\n",
       "       'conversion_rate', 'transaction_date', 'transaction_time',\n",
       "       'transaction_type', 'merchant_category', 'transaction_status',\n",
       "       'channel', 'city', 'is_international'],\n",
       "      dtype='object')"
      ]
     },
     "execution_count": 4,
     "metadata": {},
     "output_type": "execute_result"
    }
   ],
   "source": [
    "name.columns"
   ]
  },
  {
   "cell_type": "code",
   "execution_count": 5,
   "id": "5d96215f-c72c-4528-ae1c-25498f827a18",
   "metadata": {},
   "outputs": [
    {
     "data": {
      "text/html": [
       "<div>\n",
       "<style scoped>\n",
       "    .dataframe tbody tr th:only-of-type {\n",
       "        vertical-align: middle;\n",
       "    }\n",
       "\n",
       "    .dataframe tbody tr th {\n",
       "        vertical-align: top;\n",
       "    }\n",
       "\n",
       "    .dataframe thead th {\n",
       "        text-align: right;\n",
       "    }\n",
       "</style>\n",
       "<table border=\"1\" class=\"dataframe\">\n",
       "  <thead>\n",
       "    <tr style=\"text-align: right;\">\n",
       "      <th></th>\n",
       "      <th>card_number</th>\n",
       "      <th>transaction_amount</th>\n",
       "      <th>conversion_rate</th>\n",
       "    </tr>\n",
       "  </thead>\n",
       "  <tbody>\n",
       "    <tr>\n",
       "      <th>count</th>\n",
       "      <td>1.000000e+04</td>\n",
       "      <td>10000.000000</td>\n",
       "      <td>10000.000000</td>\n",
       "    </tr>\n",
       "    <tr>\n",
       "      <th>mean</th>\n",
       "      <td>5.525335e+15</td>\n",
       "      <td>1140.918048</td>\n",
       "      <td>1.515080</td>\n",
       "    </tr>\n",
       "    <tr>\n",
       "      <th>std</th>\n",
       "      <td>8.613121e+14</td>\n",
       "      <td>5083.880764</td>\n",
       "      <td>0.370522</td>\n",
       "    </tr>\n",
       "    <tr>\n",
       "      <th>min</th>\n",
       "      <td>4.000338e+15</td>\n",
       "      <td>1.010000</td>\n",
       "      <td>1.000000</td>\n",
       "    </tr>\n",
       "    <tr>\n",
       "      <th>25%</th>\n",
       "      <td>4.791600e+15</td>\n",
       "      <td>72.120000</td>\n",
       "      <td>1.000000</td>\n",
       "    </tr>\n",
       "    <tr>\n",
       "      <th>50%</th>\n",
       "      <td>5.534878e+15</td>\n",
       "      <td>142.220000</td>\n",
       "      <td>1.700000</td>\n",
       "    </tr>\n",
       "    <tr>\n",
       "      <th>75%</th>\n",
       "      <td>6.267872e+15</td>\n",
       "      <td>498.005000</td>\n",
       "      <td>1.850000</td>\n",
       "    </tr>\n",
       "    <tr>\n",
       "      <th>max</th>\n",
       "      <td>6.999921e+15</td>\n",
       "      <td>49999.380000</td>\n",
       "      <td>1.850000</td>\n",
       "    </tr>\n",
       "  </tbody>\n",
       "</table>\n",
       "</div>"
      ],
      "text/plain": [
       "        card_number  transaction_amount  conversion_rate\n",
       "count  1.000000e+04        10000.000000     10000.000000\n",
       "mean   5.525335e+15         1140.918048         1.515080\n",
       "std    8.613121e+14         5083.880764         0.370522\n",
       "min    4.000338e+15            1.010000         1.000000\n",
       "25%    4.791600e+15           72.120000         1.000000\n",
       "50%    5.534878e+15          142.220000         1.700000\n",
       "75%    6.267872e+15          498.005000         1.850000\n",
       "max    6.999921e+15        49999.380000         1.850000"
      ]
     },
     "execution_count": 5,
     "metadata": {},
     "output_type": "execute_result"
    }
   ],
   "source": [
    "name.describe()"
   ]
  },
  {
   "cell_type": "code",
   "execution_count": 6,
   "id": "d5d4f432-3cc2-4645-ab07-d90bb7dd3232",
   "metadata": {},
   "outputs": [
    {
     "data": {
      "text/plain": [
       "transaction_id        0\n",
       "customer_name         0\n",
       "customer_fin          0\n",
       "card_number           0\n",
       "card_type             0\n",
       "iban                  0\n",
       "transaction_amount    0\n",
       "currency              0\n",
       "conversion_rate       0\n",
       "transaction_date      0\n",
       "transaction_time      0\n",
       "transaction_type      0\n",
       "merchant_category     0\n",
       "transaction_status    0\n",
       "channel               0\n",
       "city                  0\n",
       "is_international      0\n",
       "dtype: int64"
      ]
     },
     "execution_count": 6,
     "metadata": {},
     "output_type": "execute_result"
    }
   ],
   "source": [
    "name.isnull().sum()"
   ]
  },
  {
   "cell_type": "code",
   "execution_count": 7,
   "id": "1e1af560-1872-408d-88c4-48e82043c16c",
   "metadata": {},
   "outputs": [
    {
     "name": "stdout",
     "output_type": "stream",
     "text": [
      "<class 'pandas.core.frame.DataFrame'>\n",
      "RangeIndex: 10000 entries, 0 to 9999\n",
      "Data columns (total 17 columns):\n",
      " #   Column              Non-Null Count  Dtype  \n",
      "---  ------              --------------  -----  \n",
      " 0   transaction_id      10000 non-null  object \n",
      " 1   customer_name       10000 non-null  object \n",
      " 2   customer_fin        10000 non-null  object \n",
      " 3   card_number         10000 non-null  float64\n",
      " 4   card_type           10000 non-null  object \n",
      " 5   iban                10000 non-null  object \n",
      " 6   transaction_amount  10000 non-null  float64\n",
      " 7   currency            10000 non-null  object \n",
      " 8   conversion_rate     10000 non-null  float64\n",
      " 9   transaction_date    10000 non-null  object \n",
      " 10  transaction_time    10000 non-null  object \n",
      " 11  transaction_type    10000 non-null  object \n",
      " 12  merchant_category   10000 non-null  object \n",
      " 13  transaction_status  10000 non-null  object \n",
      " 14  channel             10000 non-null  object \n",
      " 15  city                10000 non-null  object \n",
      " 16  is_international    10000 non-null  bool   \n",
      "dtypes: bool(1), float64(3), object(13)\n",
      "memory usage: 1.2+ MB\n"
     ]
    }
   ],
   "source": [
    "name.info()"
   ]
  },
  {
   "cell_type": "code",
   "execution_count": 13,
   "id": "29844ae1-df27-4770-b86b-24c2b4498fb3",
   "metadata": {},
   "outputs": [
    {
     "data": {
      "text/plain": [
       "array(['USD', 'AZN', 'EUR'], dtype=object)"
      ]
     },
     "execution_count": 13,
     "metadata": {},
     "output_type": "execute_result"
    }
   ],
   "source": [
    "name['currency'].unique()"
   ]
  },
  {
   "cell_type": "code",
   "execution_count": 14,
   "id": "c64b9d7a-1bca-418f-9755-64b8459398aa",
   "metadata": {},
   "outputs": [
    {
     "data": {
      "text/plain": [
       "0    USD\n",
       "Name: currency, dtype: object"
      ]
     },
     "execution_count": 14,
     "metadata": {},
     "output_type": "execute_result"
    }
   ],
   "source": [
    "name['currency'].mode()"
   ]
  },
  {
   "cell_type": "code",
   "execution_count": 3,
   "id": "98e7998f-ed11-4e5f-a0b6-3d92a4e1481c",
   "metadata": {},
   "outputs": [
    {
     "data": {
      "text/plain": [
       "array(['Maestro', 'UnionPay', 'MasterCard', 'American Express', 'VISA'],\n",
       "      dtype=object)"
      ]
     },
     "execution_count": 3,
     "metadata": {},
     "output_type": "execute_result"
    }
   ],
   "source": [
    "name['card_type'].unique()"
   ]
  },
  {
   "cell_type": "code",
   "execution_count": 16,
   "id": "a6cee6d1-2aed-4c73-b897-7d4766615020",
   "metadata": {},
   "outputs": [
    {
     "data": {
      "text/plain": [
       "5"
      ]
     },
     "execution_count": 16,
     "metadata": {},
     "output_type": "execute_result"
    }
   ],
   "source": [
    "name['card_type'].nunique()\n"
   ]
  },
  {
   "cell_type": "code",
   "execution_count": 19,
   "id": "06014c07-1d33-4644-9a3d-e2bd830c530c",
   "metadata": {},
   "outputs": [
    {
     "name": "stderr",
     "output_type": "stream",
     "text": [
      "C:\\Users\\PC\\AppData\\Local\\Temp\\ipykernel_32736\\4121928186.py:1: FutureWarning: \n",
      "\n",
      "Passing `palette` without assigning `hue` is deprecated and will be removed in v0.14.0. Assign the `y` variable to `hue` and set `legend=False` for the same effect.\n",
      "\n",
      "  sns.countplot(name['card_type'],palette='Paired')\n"
     ]
    },
    {
     "data": {
      "image/png": "[encoded data removed]",
      "text/plain": [
       "<Figure size 640x480 with 1 Axes>"
      ]
     },
     "metadata": {},
     "output_type": "display_data"
    }
   ],
   "source": [
    "sns.countplot(name['card_type'],palette='Paired')\n",
    "plt.show()"
   ]
  },
  {
   "cell_type": "code",
   "execution_count": 21,
   "id": "c1d2d99f-ca63-4485-a83d-ed20077a1250",
   "metadata": {},
   "outputs": [
    {
     "name": "stderr",
     "output_type": "stream",
     "text": [
      "C:\\Users\\PC\\AppData\\Local\\Temp\\ipykernel_32736\\885370579.py:1: FutureWarning: \n",
      "\n",
      "Passing `palette` without assigning `hue` is deprecated and will be removed in v0.14.0. Assign the `y` variable to `hue` and set `legend=False` for the same effect.\n",
      "\n",
      "  sns.countplot(name['currency'],palette='Set2')\n"
     ]
    },
    {
     "data": {
      "image/png": "[encoded data removed]",
      "text/plain": [
       "<Figure size 640x480 with 1 Axes>"
      ]
     },
     "metadata": {},
     "output_type": "display_data"
    }
   ],
   "source": [
    "sns.countplot(name['currency'],palette='Set2')\n",
    "plt.show()"
   ]
  },
  {
   "cell_type": "code",
   "execution_count": 21,
   "id": "f804c137-839f-490e-ba76-c017e4b431e8",
   "metadata": {},
   "outputs": [
    {
     "data": {
      "text/plain": [
       "<Axes: xlabel='count', ylabel='transaction_status'>"
      ]
     },
     "execution_count": 21,
     "metadata": {},
     "output_type": "execute_result"
    },
    {
     "data": {
      "image/png": "[encoded data removed]",
      "text/plain": [
       "<Figure size 640x480 with 1 Axes>"
      ]
     },
     "metadata": {},
     "output_type": "display_data"
    }
   ],
   "source": [
    "sns.countplot(name['transaction_status'])"
   ]
  },
  {
   "cell_type": "code",
   "execution_count": 25,
   "id": "33ee528b-d8d2-4e10-8fc0-e37dd1dbbc60",
   "metadata": {},
   "outputs": [
    {
     "data": {
      "text/plain": [
       "count    10000.000000\n",
       "mean      1140.918048\n",
       "std       5083.880764\n",
       "min          1.010000\n",
       "25%         72.120000\n",
       "50%        142.220000\n",
       "75%        498.005000\n",
       "max      49999.380000\n",
       "Name: transaction_amount, dtype: float64"
      ]
     },
     "execution_count": 25,
     "metadata": {},
     "output_type": "execute_result"
    }
   ],
   "source": [
    "name['transaction_amount'].describe()"
   ]
  },
  {
   "cell_type": "code",
   "execution_count": 4,
   "id": "143c8858-60b8-417f-902b-11b836cb46fc",
   "metadata": {},
   "outputs": [],
   "source": [
    "name['transaction_date']=pd.to_datetime(name['transaction_date'],errors='coerce')"
   ]
  },
  {
   "cell_type": "code",
   "execution_count": 27,
   "id": "700cbb5f-2757-4759-867e-c580a3d9c36e",
   "metadata": {},
   "outputs": [
    {
     "data": {
      "text/html": [
       "<div>\n",
       "<style scoped>\n",
       "    .dataframe tbody tr th:only-of-type {\n",
       "        vertical-align: middle;\n",
       "    }\n",
       "\n",
       "    .dataframe tbody tr th {\n",
       "        vertical-align: top;\n",
       "    }\n",
       "\n",
       "    .dataframe thead th {\n",
       "        text-align: right;\n",
       "    }\n",
       "</style>\n",
       "<table border=\"1\" class=\"dataframe\">\n",
       "  <thead>\n",
       "    <tr style=\"text-align: right;\">\n",
       "      <th></th>\n",
       "      <th>transaction_id</th>\n",
       "      <th>customer_name</th>\n",
       "      <th>customer_fin</th>\n",
       "      <th>card_number</th>\n",
       "      <th>card_type</th>\n",
       "      <th>iban</th>\n",
       "      <th>transaction_amount</th>\n",
       "      <th>currency</th>\n",
       "      <th>conversion_rate</th>\n",
       "      <th>transaction_date</th>\n",
       "      <th>transaction_time</th>\n",
       "      <th>transaction_type</th>\n",
       "      <th>merchant_category</th>\n",
       "      <th>transaction_status</th>\n",
       "      <th>channel</th>\n",
       "      <th>city</th>\n",
       "      <th>is_international</th>\n",
       "    </tr>\n",
       "  </thead>\n",
       "  <tbody>\n",
       "    <tr>\n",
       "      <th>9995</th>\n",
       "      <td>15fdd770-2a79-45df-9a80-74dc8223c8b7</td>\n",
       "      <td>Əsmər Əlizadə</td>\n",
       "      <td>KN039781</td>\n",
       "      <td>6.020310e+15</td>\n",
       "      <td>Maestro</td>\n",
       "      <td>AZ94695071716883802652826570</td>\n",
       "      <td>273.37</td>\n",
       "      <td>AZN</td>\n",
       "      <td>1.00</td>\n",
       "      <td>2024-09-16</td>\n",
       "      <td>18:33:12</td>\n",
       "      <td>Refund</td>\n",
       "      <td>Online Shopping</td>\n",
       "      <td>Pending</td>\n",
       "      <td>POS</td>\n",
       "      <td>Yevlax</td>\n",
       "      <td>False</td>\n",
       "    </tr>\n",
       "    <tr>\n",
       "      <th>9996</th>\n",
       "      <td>cfa98b8d-cbe1-41ed-90c0-256388fa212d</td>\n",
       "      <td>Aytən Sultanov</td>\n",
       "      <td>MX960216</td>\n",
       "      <td>6.514096e+15</td>\n",
       "      <td>Maestro</td>\n",
       "      <td>AZ01215715527652922440893761</td>\n",
       "      <td>13726.74</td>\n",
       "      <td>EUR</td>\n",
       "      <td>1.85</td>\n",
       "      <td>2025-07-05</td>\n",
       "      <td>18:33:12</td>\n",
       "      <td>Transfer</td>\n",
       "      <td>Education</td>\n",
       "      <td>Completed</td>\n",
       "      <td>POS</td>\n",
       "      <td>Şamaxı</td>\n",
       "      <td>True</td>\n",
       "    </tr>\n",
       "    <tr>\n",
       "      <th>9997</th>\n",
       "      <td>96d87968-ce70-4513-8231-f22d2326ca79</td>\n",
       "      <td>Şəbnəm Qasımov</td>\n",
       "      <td>DA721874</td>\n",
       "      <td>5.866593e+15</td>\n",
       "      <td>VISA</td>\n",
       "      <td>AZ72270378640155301972625955</td>\n",
       "      <td>93.32</td>\n",
       "      <td>EUR</td>\n",
       "      <td>1.85</td>\n",
       "      <td>2025-05-08</td>\n",
       "      <td>18:33:12</td>\n",
       "      <td>Refund</td>\n",
       "      <td>Restaurant</td>\n",
       "      <td>Cancelled</td>\n",
       "      <td>Online</td>\n",
       "      <td>Şirvan</td>\n",
       "      <td>False</td>\n",
       "    </tr>\n",
       "    <tr>\n",
       "      <th>9998</th>\n",
       "      <td>4dc1a723-e80d-4016-a2d0-f0188df29dbf</td>\n",
       "      <td>Rəsul Həmidov</td>\n",
       "      <td>JA776512</td>\n",
       "      <td>4.373399e+15</td>\n",
       "      <td>Maestro</td>\n",
       "      <td>AZ18405480253169444254738807</td>\n",
       "      <td>1370.95</td>\n",
       "      <td>EUR</td>\n",
       "      <td>1.85</td>\n",
       "      <td>2024-07-14</td>\n",
       "      <td>18:33:12</td>\n",
       "      <td>Transfer</td>\n",
       "      <td>Clothing</td>\n",
       "      <td>Cancelled</td>\n",
       "      <td>Mobile App</td>\n",
       "      <td>Bərdə</td>\n",
       "      <td>False</td>\n",
       "    </tr>\n",
       "    <tr>\n",
       "      <th>9999</th>\n",
       "      <td>9453a2f7-6ed8-4d1a-b361-8018f44ce76b</td>\n",
       "      <td>Müştəq Qasımov</td>\n",
       "      <td>SA635825</td>\n",
       "      <td>5.590855e+15</td>\n",
       "      <td>UnionPay</td>\n",
       "      <td>AZ90108831132534916809261821</td>\n",
       "      <td>95.47</td>\n",
       "      <td>EUR</td>\n",
       "      <td>1.85</td>\n",
       "      <td>2024-01-22</td>\n",
       "      <td>18:33:12</td>\n",
       "      <td>Purchase</td>\n",
       "      <td>Pharmacy</td>\n",
       "      <td>Completed</td>\n",
       "      <td>ATM</td>\n",
       "      <td>Balakən</td>\n",
       "      <td>True</td>\n",
       "    </tr>\n",
       "  </tbody>\n",
       "</table>\n",
       "</div>"
      ],
      "text/plain": [
       "                            transaction_id   customer_name customer_fin  \\\n",
       "9995  15fdd770-2a79-45df-9a80-74dc8223c8b7   Əsmər Əlizadə     KN039781   \n",
       "9996  cfa98b8d-cbe1-41ed-90c0-256388fa212d  Aytən Sultanov     MX960216   \n",
       "9997  96d87968-ce70-4513-8231-f22d2326ca79  Şəbnəm Qasımov     DA721874   \n",
       "9998  4dc1a723-e80d-4016-a2d0-f0188df29dbf   Rəsul Həmidov     JA776512   \n",
       "9999  9453a2f7-6ed8-4d1a-b361-8018f44ce76b  Müştəq Qasımov     SA635825   \n",
       "\n",
       "       card_number card_type                          iban  \\\n",
       "9995  6.020310e+15   Maestro  AZ94695071716883802652826570   \n",
       "9996  6.514096e+15   Maestro  AZ01215715527652922440893761   \n",
       "9997  5.866593e+15      VISA  AZ72270378640155301972625955   \n",
       "9998  4.373399e+15   Maestro  AZ18405480253169444254738807   \n",
       "9999  5.590855e+15  UnionPay  AZ90108831132534916809261821   \n",
       "\n",
       "      transaction_amount currency  conversion_rate transaction_date  \\\n",
       "9995              273.37      AZN             1.00       2024-09-16   \n",
       "9996            13726.74      EUR             1.85       2025-07-05   \n",
       "9997               93.32      EUR             1.85       2025-05-08   \n",
       "9998             1370.95      EUR             1.85       2024-07-14   \n",
       "9999               95.47      EUR             1.85       2024-01-22   \n",
       "\n",
       "     transaction_time transaction_type merchant_category transaction_status  \\\n",
       "9995         18:33:12           Refund   Online Shopping            Pending   \n",
       "9996         18:33:12         Transfer         Education          Completed   \n",
       "9997         18:33:12           Refund        Restaurant          Cancelled   \n",
       "9998         18:33:12         Transfer          Clothing          Cancelled   \n",
       "9999         18:33:12         Purchase          Pharmacy          Completed   \n",
       "\n",
       "         channel     city  is_international  \n",
       "9995         POS   Yevlax             False  \n",
       "9996         POS   Şamaxı              True  \n",
       "9997      Online   Şirvan             False  \n",
       "9998  Mobile App    Bərdə             False  \n",
       "9999         ATM  Balakən              True  "
      ]
     },
     "execution_count": 27,
     "metadata": {},
     "output_type": "execute_result"
    }
   ],
   "source": [
    "name.tail()"
   ]
  },
  {
   "cell_type": "code",
   "execution_count": 5,
   "id": "b6354145-a5b9-468f-a47d-88d2247863eb",
   "metadata": {},
   "outputs": [
    {
     "data": {
      "text/html": [
       "<div>\n",
       "<style scoped>\n",
       "    .dataframe tbody tr th:only-of-type {\n",
       "        vertical-align: middle;\n",
       "    }\n",
       "\n",
       "    .dataframe tbody tr th {\n",
       "        vertical-align: top;\n",
       "    }\n",
       "\n",
       "    .dataframe thead th {\n",
       "        text-align: right;\n",
       "    }\n",
       "</style>\n",
       "<table border=\"1\" class=\"dataframe\">\n",
       "  <thead>\n",
       "    <tr style=\"text-align: right;\">\n",
       "      <th></th>\n",
       "      <th>transaction_id</th>\n",
       "      <th>customer_name</th>\n",
       "      <th>customer_fin</th>\n",
       "      <th>card_number</th>\n",
       "      <th>card_type</th>\n",
       "      <th>iban</th>\n",
       "      <th>transaction_amount</th>\n",
       "      <th>currency</th>\n",
       "      <th>conversion_rate</th>\n",
       "      <th>transaction_date</th>\n",
       "      <th>transaction_time</th>\n",
       "      <th>transaction_type</th>\n",
       "      <th>merchant_category</th>\n",
       "      <th>transaction_status</th>\n",
       "      <th>channel</th>\n",
       "      <th>city</th>\n",
       "      <th>is_international</th>\n",
       "      <th>Year</th>\n",
       "      <th>Month</th>\n",
       "    </tr>\n",
       "  </thead>\n",
       "  <tbody>\n",
       "    <tr>\n",
       "      <th>9995</th>\n",
       "      <td>15fdd770-2a79-45df-9a80-74dc8223c8b7</td>\n",
       "      <td>Əsmər Əlizadə</td>\n",
       "      <td>KN039781</td>\n",
       "      <td>6.020310e+15</td>\n",
       "      <td>Maestro</td>\n",
       "      <td>AZ94695071716883802652826570</td>\n",
       "      <td>273.37</td>\n",
       "      <td>AZN</td>\n",
       "      <td>1.00</td>\n",
       "      <td>2024-09-16</td>\n",
       "      <td>18:33:12</td>\n",
       "      <td>Refund</td>\n",
       "      <td>Online Shopping</td>\n",
       "      <td>Pending</td>\n",
       "      <td>POS</td>\n",
       "      <td>Yevlax</td>\n",
       "      <td>False</td>\n",
       "      <td>2024</td>\n",
       "      <td>9</td>\n",
       "    </tr>\n",
       "    <tr>\n",
       "      <th>9996</th>\n",
       "      <td>cfa98b8d-cbe1-41ed-90c0-256388fa212d</td>\n",
       "      <td>Aytən Sultanov</td>\n",
       "      <td>MX960216</td>\n",
       "      <td>6.514096e+15</td>\n",
       "      <td>Maestro</td>\n",
       "      <td>AZ01215715527652922440893761</td>\n",
       "      <td>13726.74</td>\n",
       "      <td>EUR</td>\n",
       "      <td>1.85</td>\n",
       "      <td>2025-07-05</td>\n",
       "      <td>18:33:12</td>\n",
       "      <td>Transfer</td>\n",
       "      <td>Education</td>\n",
       "      <td>Completed</td>\n",
       "      <td>POS</td>\n",
       "      <td>Şamaxı</td>\n",
       "      <td>True</td>\n",
       "      <td>2025</td>\n",
       "      <td>7</td>\n",
       "    </tr>\n",
       "    <tr>\n",
       "      <th>9997</th>\n",
       "      <td>96d87968-ce70-4513-8231-f22d2326ca79</td>\n",
       "      <td>Şəbnəm Qasımov</td>\n",
       "      <td>DA721874</td>\n",
       "      <td>5.866593e+15</td>\n",
       "      <td>VISA</td>\n",
       "      <td>AZ72270378640155301972625955</td>\n",
       "      <td>93.32</td>\n",
       "      <td>EUR</td>\n",
       "      <td>1.85</td>\n",
       "      <td>2025-05-08</td>\n",
       "      <td>18:33:12</td>\n",
       "      <td>Refund</td>\n",
       "      <td>Restaurant</td>\n",
       "      <td>Cancelled</td>\n",
       "      <td>Online</td>\n",
       "      <td>Şirvan</td>\n",
       "      <td>False</td>\n",
       "      <td>2025</td>\n",
       "      <td>5</td>\n",
       "    </tr>\n",
       "    <tr>\n",
       "      <th>9998</th>\n",
       "      <td>4dc1a723-e80d-4016-a2d0-f0188df29dbf</td>\n",
       "      <td>Rəsul Həmidov</td>\n",
       "      <td>JA776512</td>\n",
       "      <td>4.373399e+15</td>\n",
       "      <td>Maestro</td>\n",
       "      <td>AZ18405480253169444254738807</td>\n",
       "      <td>1370.95</td>\n",
       "      <td>EUR</td>\n",
       "      <td>1.85</td>\n",
       "      <td>2024-07-14</td>\n",
       "      <td>18:33:12</td>\n",
       "      <td>Transfer</td>\n",
       "      <td>Clothing</td>\n",
       "      <td>Cancelled</td>\n",
       "      <td>Mobile App</td>\n",
       "      <td>Bərdə</td>\n",
       "      <td>False</td>\n",
       "      <td>2024</td>\n",
       "      <td>7</td>\n",
       "    </tr>\n",
       "    <tr>\n",
       "      <th>9999</th>\n",
       "      <td>9453a2f7-6ed8-4d1a-b361-8018f44ce76b</td>\n",
       "      <td>Müştəq Qasımov</td>\n",
       "      <td>SA635825</td>\n",
       "      <td>5.590855e+15</td>\n",
       "      <td>UnionPay</td>\n",
       "      <td>AZ90108831132534916809261821</td>\n",
       "      <td>95.47</td>\n",
       "      <td>EUR</td>\n",
       "      <td>1.85</td>\n",
       "      <td>2024-01-22</td>\n",
       "      <td>18:33:12</td>\n",
       "      <td>Purchase</td>\n",
       "      <td>Pharmacy</td>\n",
       "      <td>Completed</td>\n",
       "      <td>ATM</td>\n",
       "      <td>Balakən</td>\n",
       "      <td>True</td>\n",
       "      <td>2024</td>\n",
       "      <td>1</td>\n",
       "    </tr>\n",
       "  </tbody>\n",
       "</table>\n",
       "</div>"
      ],
      "text/plain": [
       "                            transaction_id   customer_name customer_fin  \\\n",
       "9995  15fdd770-2a79-45df-9a80-74dc8223c8b7   Əsmər Əlizadə     KN039781   \n",
       "9996  cfa98b8d-cbe1-41ed-90c0-256388fa212d  Aytən Sultanov     MX960216   \n",
       "9997  96d87968-ce70-4513-8231-f22d2326ca79  Şəbnəm Qasımov     DA721874   \n",
       "9998  4dc1a723-e80d-4016-a2d0-f0188df29dbf   Rəsul Həmidov     JA776512   \n",
       "9999  9453a2f7-6ed8-4d1a-b361-8018f44ce76b  Müştəq Qasımov     SA635825   \n",
       "\n",
       "       card_number card_type                          iban  \\\n",
       "9995  6.020310e+15   Maestro  AZ94695071716883802652826570   \n",
       "9996  6.514096e+15   Maestro  AZ01215715527652922440893761   \n",
       "9997  5.866593e+15      VISA  AZ72270378640155301972625955   \n",
       "9998  4.373399e+15   Maestro  AZ18405480253169444254738807   \n",
       "9999  5.590855e+15  UnionPay  AZ90108831132534916809261821   \n",
       "\n",
       "      transaction_amount currency  conversion_rate transaction_date  \\\n",
       "9995              273.37      AZN             1.00       2024-09-16   \n",
       "9996            13726.74      EUR             1.85       2025-07-05   \n",
       "9997               93.32      EUR             1.85       2025-05-08   \n",
       "9998             1370.95      EUR             1.85       2024-07-14   \n",
       "9999               95.47      EUR             1.85       2024-01-22   \n",
       "\n",
       "     transaction_time transaction_type merchant_category transaction_status  \\\n",
       "9995         18:33:12           Refund   Online Shopping            Pending   \n",
       "9996         18:33:12         Transfer         Education          Completed   \n",
       "9997         18:33:12           Refund        Restaurant          Cancelled   \n",
       "9998         18:33:12         Transfer          Clothing          Cancelled   \n",
       "9999         18:33:12         Purchase          Pharmacy          Completed   \n",
       "\n",
       "         channel     city  is_international  Year  Month  \n",
       "9995         POS   Yevlax             False  2024      9  \n",
       "9996         POS   Şamaxı              True  2025      7  \n",
       "9997      Online   Şirvan             False  2025      5  \n",
       "9998  Mobile App    Bərdə             False  2024      7  \n",
       "9999         ATM  Balakən              True  2024      1  "
      ]
     },
     "execution_count": 5,
     "metadata": {},
     "output_type": "execute_result"
    }
   ],
   "source": [
    "name['Year'] = name['transaction_date'].dt.year\n",
    "name['Month'] = name['transaction_date'].dt.month\n",
    "name.tail()"
   ]
  },
  {
   "cell_type": "code",
   "execution_count": 40,
   "id": "2b933031-1c1c-4da0-93dc-e59672336536",
   "metadata": {},
   "outputs": [
    {
     "data": {
      "text/plain": [
       "transaction_id                   object\n",
       "customer_name                    object\n",
       "customer_fin                     object\n",
       "card_number                     float64\n",
       "card_type                        object\n",
       "iban                             object\n",
       "transaction_amount              float64\n",
       "currency                         object\n",
       "conversion_rate                 float64\n",
       "transaction_date         datetime64[ns]\n",
       "transaction_time                 object\n",
       "transaction_type                 object\n",
       "merchant_category                object\n",
       "transaction_status               object\n",
       "channel                          object\n",
       "city                             object\n",
       "Year                              int32\n",
       "Month                             int32\n",
       "is_international_True              bool\n",
       "dtype: object"
      ]
     },
     "execution_count": 40,
     "metadata": {},
     "output_type": "execute_result"
    }
   ],
   "source": [
    "name.dtypes"
   ]
  },
  {
   "cell_type": "code",
   "execution_count": 6,
   "id": "f43ccab7-202b-4be6-8f35-e30a1ad93b5d",
   "metadata": {},
   "outputs": [
    {
     "data": {
      "text/html": [
       "<div>\n",
       "<style scoped>\n",
       "    .dataframe tbody tr th:only-of-type {\n",
       "        vertical-align: middle;\n",
       "    }\n",
       "\n",
       "    .dataframe tbody tr th {\n",
       "        vertical-align: top;\n",
       "    }\n",
       "\n",
       "    .dataframe thead th {\n",
       "        text-align: right;\n",
       "    }\n",
       "</style>\n",
       "<table border=\"1\" class=\"dataframe\">\n",
       "  <thead>\n",
       "    <tr style=\"text-align: right;\">\n",
       "      <th></th>\n",
       "      <th>transaction_id</th>\n",
       "      <th>customer_name</th>\n",
       "      <th>customer_fin</th>\n",
       "      <th>card_number</th>\n",
       "      <th>card_type</th>\n",
       "      <th>iban</th>\n",
       "      <th>transaction_amount</th>\n",
       "      <th>currency</th>\n",
       "      <th>conversion_rate</th>\n",
       "      <th>transaction_date</th>\n",
       "      <th>transaction_time</th>\n",
       "      <th>transaction_type</th>\n",
       "      <th>merchant_category</th>\n",
       "      <th>transaction_status</th>\n",
       "      <th>channel</th>\n",
       "      <th>city</th>\n",
       "      <th>is_international</th>\n",
       "      <th>Year</th>\n",
       "      <th>Month</th>\n",
       "    </tr>\n",
       "  </thead>\n",
       "  <tbody>\n",
       "    <tr>\n",
       "      <th>0</th>\n",
       "      <td>31befdf4-f5a1-4687-8cda-1a979a9aa46f</td>\n",
       "      <td>Sevinc Paşayev</td>\n",
       "      <td>QA227680</td>\n",
       "      <td>5.760652e+15</td>\n",
       "      <td>Maestro</td>\n",
       "      <td>AZ40957248611757453914781165</td>\n",
       "      <td>73.60</td>\n",
       "      <td>USD</td>\n",
       "      <td>1.7</td>\n",
       "      <td>2024-03-15</td>\n",
       "      <td>0:00:00</td>\n",
       "      <td>Payment</td>\n",
       "      <td>ATM Withdrawal</td>\n",
       "      <td>Cancelled</td>\n",
       "      <td>Phone Banking</td>\n",
       "      <td>Lənkəran</td>\n",
       "      <td>NaN</td>\n",
       "      <td>2024</td>\n",
       "      <td>3</td>\n",
       "    </tr>\n",
       "    <tr>\n",
       "      <th>1</th>\n",
       "      <td>ad67aafa-f023-40dc-b659-ab87439d31f8</td>\n",
       "      <td>Leyla Musayev</td>\n",
       "      <td>QA227680</td>\n",
       "      <td>5.107798e+15</td>\n",
       "      <td>UnionPay</td>\n",
       "      <td>AZ95413982250789516915699767</td>\n",
       "      <td>1166.55</td>\n",
       "      <td>USD</td>\n",
       "      <td>1.7</td>\n",
       "      <td>2024-03-22</td>\n",
       "      <td>0:00:00</td>\n",
       "      <td>Payment</td>\n",
       "      <td>Healthcare</td>\n",
       "      <td>Failed</td>\n",
       "      <td>Mobile App</td>\n",
       "      <td>Qəbələ</td>\n",
       "      <td>NaN</td>\n",
       "      <td>2024</td>\n",
       "      <td>3</td>\n",
       "    </tr>\n",
       "    <tr>\n",
       "      <th>2</th>\n",
       "      <td>87595355-54c6-488b-87fe-2f49f589a020</td>\n",
       "      <td>Şəhriyar Nəbiyev</td>\n",
       "      <td>QA227680</td>\n",
       "      <td>4.062980e+15</td>\n",
       "      <td>MasterCard</td>\n",
       "      <td>AZ06348066078115114808806500</td>\n",
       "      <td>13.74</td>\n",
       "      <td>AZN</td>\n",
       "      <td>1.0</td>\n",
       "      <td>2024-03-04</td>\n",
       "      <td>0:00:00</td>\n",
       "      <td>Withdrawal</td>\n",
       "      <td>Restaurant</td>\n",
       "      <td>Cancelled</td>\n",
       "      <td>Mobile App</td>\n",
       "      <td>Şuşa</td>\n",
       "      <td>NaN</td>\n",
       "      <td>2024</td>\n",
       "      <td>3</td>\n",
       "    </tr>\n",
       "    <tr>\n",
       "      <th>3</th>\n",
       "      <td>d183f1bf-eab1-43fc-bf8b-232c88636c7c</td>\n",
       "      <td>Sənan Abdullayev</td>\n",
       "      <td>QA227680</td>\n",
       "      <td>5.267764e+15</td>\n",
       "      <td>UnionPay</td>\n",
       "      <td>AZ19015621825645592723623704</td>\n",
       "      <td>12.67</td>\n",
       "      <td>USD</td>\n",
       "      <td>1.7</td>\n",
       "      <td>2024-03-28</td>\n",
       "      <td>0:00:00</td>\n",
       "      <td>Refund</td>\n",
       "      <td>Fuel Station</td>\n",
       "      <td>Completed</td>\n",
       "      <td>Phone Banking</td>\n",
       "      <td>Şirvan</td>\n",
       "      <td>NaN</td>\n",
       "      <td>2024</td>\n",
       "      <td>3</td>\n",
       "    </tr>\n",
       "    <tr>\n",
       "      <th>4</th>\n",
       "      <td>314b3cf2-c119-48a8-ad4b-700ae3416c54</td>\n",
       "      <td>Nigar Vəliyev</td>\n",
       "      <td>QA227680</td>\n",
       "      <td>6.769608e+15</td>\n",
       "      <td>Maestro</td>\n",
       "      <td>AZ26249804207627540089585113</td>\n",
       "      <td>1782.69</td>\n",
       "      <td>USD</td>\n",
       "      <td>1.7</td>\n",
       "      <td>2024-03-05</td>\n",
       "      <td>0:00:00</td>\n",
       "      <td>Purchase</td>\n",
       "      <td>Clothing</td>\n",
       "      <td>Pending</td>\n",
       "      <td>POS</td>\n",
       "      <td>Mingəçevir</td>\n",
       "      <td>NaN</td>\n",
       "      <td>2024</td>\n",
       "      <td>3</td>\n",
       "    </tr>\n",
       "  </tbody>\n",
       "</table>\n",
       "</div>"
      ],
      "text/plain": [
       "                         transaction_id     customer_name customer_fin  \\\n",
       "0  31befdf4-f5a1-4687-8cda-1a979a9aa46f    Sevinc Paşayev     QA227680   \n",
       "1  ad67aafa-f023-40dc-b659-ab87439d31f8     Leyla Musayev     QA227680   \n",
       "2  87595355-54c6-488b-87fe-2f49f589a020  Şəhriyar Nəbiyev     QA227680   \n",
       "3  d183f1bf-eab1-43fc-bf8b-232c88636c7c  Sənan Abdullayev     QA227680   \n",
       "4  314b3cf2-c119-48a8-ad4b-700ae3416c54     Nigar Vəliyev     QA227680   \n",
       "\n",
       "    card_number   card_type                          iban  transaction_amount  \\\n",
       "0  5.760652e+15     Maestro  AZ40957248611757453914781165               73.60   \n",
       "1  5.107798e+15    UnionPay  AZ95413982250789516915699767             1166.55   \n",
       "2  4.062980e+15  MasterCard  AZ06348066078115114808806500               13.74   \n",
       "3  5.267764e+15    UnionPay  AZ19015621825645592723623704               12.67   \n",
       "4  6.769608e+15     Maestro  AZ26249804207627540089585113             1782.69   \n",
       "\n",
       "  currency  conversion_rate transaction_date transaction_time  \\\n",
       "0      USD              1.7       2024-03-15          0:00:00   \n",
       "1      USD              1.7       2024-03-22          0:00:00   \n",
       "2      AZN              1.0       2024-03-04          0:00:00   \n",
       "3      USD              1.7       2024-03-28          0:00:00   \n",
       "4      USD              1.7       2024-03-05          0:00:00   \n",
       "\n",
       "  transaction_type merchant_category transaction_status        channel  \\\n",
       "0          Payment    ATM Withdrawal          Cancelled  Phone Banking   \n",
       "1          Payment        Healthcare             Failed     Mobile App   \n",
       "2       Withdrawal        Restaurant          Cancelled     Mobile App   \n",
       "3           Refund      Fuel Station          Completed  Phone Banking   \n",
       "4         Purchase          Clothing            Pending            POS   \n",
       "\n",
       "         city  is_international  Year  Month  \n",
       "0    Lənkəran               NaN  2024      3  \n",
       "1      Qəbələ               NaN  2024      3  \n",
       "2        Şuşa               NaN  2024      3  \n",
       "3      Şirvan               NaN  2024      3  \n",
       "4  Mingəçevir               NaN  2024      3  "
      ]
     },
     "execution_count": 6,
     "metadata": {},
     "output_type": "execute_result"
    }
   ],
   "source": [
    "name['is_international'] = name['is_international'].astype(int)\n",
    "name['is_international']=name['is_international'].map({'False':0,'True':1})\n",
    "name.head()"
   ]
  },
  {
   "cell_type": "code",
   "execution_count": 42,
   "id": "ae353d89-34ac-4750-83a4-321487cc2274",
   "metadata": {},
   "outputs": [
    {
     "data": {
      "text/html": [
       "<div>\n",
       "<style scoped>\n",
       "    .dataframe tbody tr th:only-of-type {\n",
       "        vertical-align: middle;\n",
       "    }\n",
       "\n",
       "    .dataframe tbody tr th {\n",
       "        vertical-align: top;\n",
       "    }\n",
       "\n",
       "    .dataframe thead th {\n",
       "        text-align: right;\n",
       "    }\n",
       "</style>\n",
       "<table border=\"1\" class=\"dataframe\">\n",
       "  <thead>\n",
       "    <tr style=\"text-align: right;\">\n",
       "      <th></th>\n",
       "      <th>transaction_id</th>\n",
       "      <th>customer_name</th>\n",
       "      <th>customer_fin</th>\n",
       "      <th>card_number</th>\n",
       "      <th>card_type</th>\n",
       "      <th>iban</th>\n",
       "      <th>transaction_amount</th>\n",
       "      <th>currency</th>\n",
       "      <th>conversion_rate</th>\n",
       "      <th>transaction_date</th>\n",
       "      <th>transaction_time</th>\n",
       "      <th>transaction_type</th>\n",
       "      <th>merchant_category</th>\n",
       "      <th>transaction_status</th>\n",
       "      <th>channel</th>\n",
       "      <th>city</th>\n",
       "      <th>Year</th>\n",
       "      <th>Month</th>\n",
       "      <th>is_international_True</th>\n",
       "    </tr>\n",
       "  </thead>\n",
       "  <tbody>\n",
       "    <tr>\n",
       "      <th>0</th>\n",
       "      <td>31befdf4-f5a1-4687-8cda-1a979a9aa46f</td>\n",
       "      <td>Sevinc Paşayev</td>\n",
       "      <td>QA227680</td>\n",
       "      <td>5.760652e+15</td>\n",
       "      <td>Maestro</td>\n",
       "      <td>AZ40957248611757453914781165</td>\n",
       "      <td>73.60</td>\n",
       "      <td>USD</td>\n",
       "      <td>1.7</td>\n",
       "      <td>2024-03-15</td>\n",
       "      <td>0:00:00</td>\n",
       "      <td>Payment</td>\n",
       "      <td>ATM Withdrawal</td>\n",
       "      <td>Cancelled</td>\n",
       "      <td>Phone Banking</td>\n",
       "      <td>Lənkəran</td>\n",
       "      <td>2024</td>\n",
       "      <td>3</td>\n",
       "      <td>True</td>\n",
       "    </tr>\n",
       "    <tr>\n",
       "      <th>1</th>\n",
       "      <td>ad67aafa-f023-40dc-b659-ab87439d31f8</td>\n",
       "      <td>Leyla Musayev</td>\n",
       "      <td>QA227680</td>\n",
       "      <td>5.107798e+15</td>\n",
       "      <td>UnionPay</td>\n",
       "      <td>AZ95413982250789516915699767</td>\n",
       "      <td>1166.55</td>\n",
       "      <td>USD</td>\n",
       "      <td>1.7</td>\n",
       "      <td>2024-03-22</td>\n",
       "      <td>0:00:00</td>\n",
       "      <td>Payment</td>\n",
       "      <td>Healthcare</td>\n",
       "      <td>Failed</td>\n",
       "      <td>Mobile App</td>\n",
       "      <td>Qəbələ</td>\n",
       "      <td>2024</td>\n",
       "      <td>3</td>\n",
       "      <td>False</td>\n",
       "    </tr>\n",
       "    <tr>\n",
       "      <th>2</th>\n",
       "      <td>87595355-54c6-488b-87fe-2f49f589a020</td>\n",
       "      <td>Şəhriyar Nəbiyev</td>\n",
       "      <td>QA227680</td>\n",
       "      <td>4.062980e+15</td>\n",
       "      <td>MasterCard</td>\n",
       "      <td>AZ06348066078115114808806500</td>\n",
       "      <td>13.74</td>\n",
       "      <td>AZN</td>\n",
       "      <td>1.0</td>\n",
       "      <td>2024-03-04</td>\n",
       "      <td>0:00:00</td>\n",
       "      <td>Withdrawal</td>\n",
       "      <td>Restaurant</td>\n",
       "      <td>Cancelled</td>\n",
       "      <td>Mobile App</td>\n",
       "      <td>Şuşa</td>\n",
       "      <td>2024</td>\n",
       "      <td>3</td>\n",
       "      <td>True</td>\n",
       "    </tr>\n",
       "    <tr>\n",
       "      <th>3</th>\n",
       "      <td>d183f1bf-eab1-43fc-bf8b-232c88636c7c</td>\n",
       "      <td>Sənan Abdullayev</td>\n",
       "      <td>QA227680</td>\n",
       "      <td>5.267764e+15</td>\n",
       "      <td>UnionPay</td>\n",
       "      <td>AZ19015621825645592723623704</td>\n",
       "      <td>12.67</td>\n",
       "      <td>USD</td>\n",
       "      <td>1.7</td>\n",
       "      <td>2024-03-28</td>\n",
       "      <td>0:00:00</td>\n",
       "      <td>Refund</td>\n",
       "      <td>Fuel Station</td>\n",
       "      <td>Completed</td>\n",
       "      <td>Phone Banking</td>\n",
       "      <td>Şirvan</td>\n",
       "      <td>2024</td>\n",
       "      <td>3</td>\n",
       "      <td>False</td>\n",
       "    </tr>\n",
       "    <tr>\n",
       "      <th>4</th>\n",
       "      <td>314b3cf2-c119-48a8-ad4b-700ae3416c54</td>\n",
       "      <td>Nigar Vəliyev</td>\n",
       "      <td>QA227680</td>\n",
       "      <td>6.769608e+15</td>\n",
       "      <td>Maestro</td>\n",
       "      <td>AZ26249804207627540089585113</td>\n",
       "      <td>1782.69</td>\n",
       "      <td>USD</td>\n",
       "      <td>1.7</td>\n",
       "      <td>2024-03-05</td>\n",
       "      <td>0:00:00</td>\n",
       "      <td>Purchase</td>\n",
       "      <td>Clothing</td>\n",
       "      <td>Pending</td>\n",
       "      <td>POS</td>\n",
       "      <td>Mingəçevir</td>\n",
       "      <td>2024</td>\n",
       "      <td>3</td>\n",
       "      <td>False</td>\n",
       "    </tr>\n",
       "  </tbody>\n",
       "</table>\n",
       "</div>"
      ],
      "text/plain": [
       "                         transaction_id     customer_name customer_fin  \\\n",
       "0  31befdf4-f5a1-4687-8cda-1a979a9aa46f    Sevinc Paşayev     QA227680   \n",
       "1  ad67aafa-f023-40dc-b659-ab87439d31f8     Leyla Musayev     QA227680   \n",
       "2  87595355-54c6-488b-87fe-2f49f589a020  Şəhriyar Nəbiyev     QA227680   \n",
       "3  d183f1bf-eab1-43fc-bf8b-232c88636c7c  Sənan Abdullayev     QA227680   \n",
       "4  314b3cf2-c119-48a8-ad4b-700ae3416c54     Nigar Vəliyev     QA227680   \n",
       "\n",
       "    card_number   card_type                          iban  transaction_amount  \\\n",
       "0  5.760652e+15     Maestro  AZ40957248611757453914781165               73.60   \n",
       "1  5.107798e+15    UnionPay  AZ95413982250789516915699767             1166.55   \n",
       "2  4.062980e+15  MasterCard  AZ06348066078115114808806500               13.74   \n",
       "3  5.267764e+15    UnionPay  AZ19015621825645592723623704               12.67   \n",
       "4  6.769608e+15     Maestro  AZ26249804207627540089585113             1782.69   \n",
       "\n",
       "  currency  conversion_rate transaction_date transaction_time  \\\n",
       "0      USD              1.7       2024-03-15          0:00:00   \n",
       "1      USD              1.7       2024-03-22          0:00:00   \n",
       "2      AZN              1.0       2024-03-04          0:00:00   \n",
       "3      USD              1.7       2024-03-28          0:00:00   \n",
       "4      USD              1.7       2024-03-05          0:00:00   \n",
       "\n",
       "  transaction_type merchant_category transaction_status        channel  \\\n",
       "0          Payment    ATM Withdrawal          Cancelled  Phone Banking   \n",
       "1          Payment        Healthcare             Failed     Mobile App   \n",
       "2       Withdrawal        Restaurant          Cancelled     Mobile App   \n",
       "3           Refund      Fuel Station          Completed  Phone Banking   \n",
       "4         Purchase          Clothing            Pending            POS   \n",
       "\n",
       "         city  Year  Month  is_international_True  \n",
       "0    Lənkəran  2024      3                   True  \n",
       "1      Qəbələ  2024      3                  False  \n",
       "2        Şuşa  2024      3                   True  \n",
       "3      Şirvan  2024      3                  False  \n",
       "4  Mingəçevir  2024      3                  False  "
      ]
     },
     "execution_count": 42,
     "metadata": {},
     "output_type": "execute_result"
    }
   ],
   "source": [
    "name.head()"
   ]
  },
  {
   "cell_type": "markdown",
   "id": "36aac467-a230-42f6-be50-34daa601adda",
   "metadata": {},
   "source": [
    "ARIMA is a model used in time series analysis.\n",
    "\n",
    "ARIMA (AutoRegressive Integrated Moving Average) forecasts future values based on past observations and errors while accounting for trends and patterns in the data.\n",
    "\n",
    "In short, it is a statistical model that predicts future values by capturing trends and patterns in the series.\n",
    "\n",
    "ARIMA has three main parameters: p, d, and q.\n",
    "\n",
    "p (AutoRegressive): determines how many past values the model uses to predict the future.\n",
    "\n",
    "d (Integrated): shows how many times the series is differenced to make it stationary.\n",
    "\n",
    "q (Moving Average): indicates how many past forecast errors are used in the model.\n",
    "\n",
    "💡 In short:\n",
    "\n",
    "p → past trends\n",
    "\n",
    "d → differencing for stationarity\n",
    "\n",
    "q → past errors"
   ]
  },
  {
   "cell_type": "code",
   "execution_count": 7,
   "id": "645b3d8f-6e1e-43be-bcff-0828c82d87cc",
   "metadata": {},
   "outputs": [],
   "source": [
    "from statsmodels.tsa.arima.model import ARIMA\n",
    "from statsmodels.graphics.tsaplots import plot_acf\n",
    "from statsmodels.graphics.tsaplots import plot_pacf"
   ]
  },
  {
   "cell_type": "markdown",
   "id": "f1abc405-8062-4bde-a6c3-8fabf716694a",
   "metadata": {},
   "source": [
    "***p → identified from the PACF/ACF plots (autocorrelation of past values)\n",
    "\n",
    "d → number of differences needed to make the series stationary\n",
    "\n",
    "q → determined from the ACF/PACF plots (pattern of past errors)***"
   ]
  },
  {
   "cell_type": "markdown",
   "id": "6cd23385-bbff-49ea-b4ce-fc00884ee3c2",
   "metadata": {},
   "source": [
    "Findig p"
   ]
  },
  {
   "cell_type": "code",
   "execution_count": 45,
   "id": "83fcaa2c-c61b-4129-8289-89b067ce1cb8",
   "metadata": {},
   "outputs": [
    {
     "data": {
      "image/png": "[encoded data removed]",
      "text/plain": [
       "<Figure size 640x480 with 1 Axes>"
      ]
     },
     "metadata": {},
     "output_type": "display_data"
    }
   ],
   "source": [
    "plot_pacf(name['transaction_amount'], lags=20)\n",
    "plt.show()\n"
   ]
  },
  {
   "cell_type": "code",
   "execution_count": 51,
   "id": "cb2117bb-b7ac-4a2b-b72a-dd55b8d50ca9",
   "metadata": {
    "scrolled": true
   },
   "outputs": [
    {
     "data": {
      "image/png": "[encoded data removed]",
      "text/plain": [
       "<Figure size 640x480 with 1 Axes>"
      ]
     },
     "metadata": {},
     "output_type": "display_data"
    }
   ],
   "source": [
    "plot_acf(name['transaction_amount'])\n",
    "plt.title(\"ACF - For q\")\n",
    "plt.show()\n"
   ]
  },
  {
   "cell_type": "markdown",
   "id": "03ed246f-a560-41f5-88ff-820e6bff9394",
   "metadata": {},
   "source": [
    "Stationarity in a time series means:\n",
    "\n",
    "The series has a constant mean and variance over time.\n",
    "\n",
    "In other words, its patterns do not change and there is no trend.\n",
    "\n",
    "A time series is stationary if its mean and variance remain constant over time. Checking stationarity can be done using both visual and statistical methods:"
   ]
  },
  {
   "cell_type": "code",
   "execution_count": 57,
   "id": "b03df27f-e478-4143-9ca1-ae524f0cb73b",
   "metadata": {},
   "outputs": [
    {
     "data": {
      "image/png": "[encoded data removed]",
      "text/plain": [
       "<Figure size 640x480 with 1 Axes>"
      ]
     },
     "metadata": {},
     "output_type": "display_data"
    }
   ],
   "source": [
    "series = name['transaction_amount']\n",
    "series.plot(title=\"Time Series Plot\")\n",
    "plt.show()"
   ]
  },
  {
   "cell_type": "code",
   "execution_count": 47,
   "id": "e22b0500-46bd-4420-b23a-7c0fbddc09c1",
   "metadata": {},
   "outputs": [],
   "source": [
    "from statsmodels.tsa.stattools import adfuller"
   ]
  },
  {
   "cell_type": "markdown",
   "id": "8e07c1b1-b5a2-4cd3-8f15-45f31cf7aa61",
   "metadata": {},
   "source": [
    "If p-value < 0.05, the series is stationary.\n",
    "\n",
    "Otherwise, the series is non-stationary and differencing may be needed."
   ]
  },
  {
   "cell_type": "code",
   "execution_count": 59,
   "id": "3507ebcf-7112-4818-9b17-4ab9f2e08051",
   "metadata": {},
   "outputs": [
    {
     "name": "stdout",
     "output_type": "stream",
     "text": [
      "ADF Statistic: -99.5617407766178\n",
      "p-value: 0.0\n",
      "This data is stationary\n"
     ]
    }
   ],
   "source": [
    "result=adfuller(name['transaction_amount'])\n",
    "print('ADF Statistic:', result[0])\n",
    "print('p-value:', result[1])\n",
    "\n",
    "if result[1] < 0.05:\n",
    "    print('This data is stationary')\n",
    "else:\n",
    "    print('This data is not stationary')"
   ]
  },
  {
   "cell_type": "code",
   "execution_count": 53,
   "id": "b27b9ab3-c54b-45b2-91f7-6155fab035b5",
   "metadata": {},
   "outputs": [
    {
     "name": "stdout",
     "output_type": "stream",
     "text": [
      "                               SARIMAX Results                                \n",
      "==============================================================================\n",
      "Dep. Variable:     transaction_amount   No. Observations:                10000\n",
      "Model:                 ARIMA(1, 0, 1)   Log Likelihood              -99527.158\n",
      "Date:                Sat, 13 Sep 2025   AIC                         199062.315\n",
      "Time:                        10:02:21   BIC                         199091.157\n",
      "Sample:                             0   HQIC                        199072.078\n",
      "                              - 10000                                         \n",
      "Covariance Type:                  opg                                         \n",
      "==============================================================================\n",
      "                 coef    std err          z      P>|z|      [0.025      0.975]\n",
      "------------------------------------------------------------------------------\n",
      "const       1140.9180     52.389     21.778      0.000    1038.238    1243.598\n",
      "ar.L1          0.1335      8.535      0.016      0.988     -16.595      16.862\n",
      "ma.L1         -0.1310      8.535     -0.015      0.988     -16.860      16.598\n",
      "sigma2      2.585e+07      0.037   7.02e+08      0.000    2.59e+07    2.59e+07\n",
      "===================================================================================\n",
      "Ljung-Box (L1) (Q):                   0.03   Jarque-Bera (JB):           1270008.91\n",
      "Prob(Q):                              0.85   Prob(JB):                         0.00\n",
      "Heteroskedasticity (H):               1.02   Skew:                             7.16\n",
      "Prob(H) (two-sided):                  0.54   Kurtosis:                        56.32\n",
      "===================================================================================\n",
      "\n",
      "Warnings:\n",
      "[1] Covariance matrix calculated using the outer product of gradients (complex-step).\n",
      "[2] Covariance matrix is singular or near-singular, with condition number 1.06e+23. Standard errors may be unstable.\n"
     ]
    }
   ],
   "source": [
    "model = ARIMA(name['transaction_amount'], order=(1,0,1))\n",
    "model_fit = model.fit()\n",
    "print(model_fit.summary())\n"
   ]
  },
  {
   "cell_type": "code",
   "execution_count": 62,
   "id": "48c6359a-b67a-4b8f-b2f5-fb23b1a34fa6",
   "metadata": {},
   "outputs": [
    {
     "name": "stdout",
     "output_type": "stream",
     "text": [
      "10000    1138.471764\n",
      "10001    1140.591582\n",
      "10002    1140.874480\n",
      "10003    1140.912234\n",
      "10004    1140.917272\n",
      "Name: predicted_mean, dtype: float64\n"
     ]
    }
   ],
   "source": [
    "forecast = model_fit.forecast(steps=5)\n",
    "print(forecast)"
   ]
  },
  {
   "cell_type": "code",
   "execution_count": 61,
   "id": "8faa6a33-b3c4-4a7f-b4f9-ce6d6ba9eef1",
   "metadata": {},
   "outputs": [
    {
     "data": {
      "image/png": "[encoded data removed]",
      "text/plain": [
       "<Figure size 1000x600 with 1 Axes>"
      ]
     },
     "metadata": {},
     "output_type": "display_data"
    }
   ],
   "source": [
    "name['transaction_amount'].plot(label='old amount', figsize=(10,6))\n",
    "forecast.plot(label='forecast', style='^')\n",
    "plt.legend()\n",
    "plt.title(\"Forecasting transaction_amount using ARIMA\")\n",
    "plt.show()\n"
   ]
  },
  {
   "cell_type": "code",
   "execution_count": null,
   "id": "11fe3631-b443-4b43-be50-929b70c7b117",
   "metadata": {},
   "outputs": [],
   "source": []
  },
  {
   "cell_type": "code",
   "execution_count": null,
   "id": "218f35f2-7fc6-43bb-842f-3c32ec2f438b",
   "metadata": {},
   "outputs": [],
   "source": []
  }
 ],
 "metadata": {
  "kernelspec": {
   "display_name": "Python [conda env:base] *",
   "language": "python",
   "name": "conda-base-py"
  },
  "language_info": {
   "codemirror_mode": {
    "name": "ipython",
    "version": 3
   },
   "file_extension": ".py",
   "mimetype": "text/x-python",
   "name": "python",
   "nbconvert_exporter": "python",
   "pygments_lexer": "ipython3",
   "version": "3.13.5"
  }
 },
 "nbformat": 4,
 "nbformat_minor": 5
}
